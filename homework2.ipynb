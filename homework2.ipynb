{
 "cells": [
  {
   "cell_type": "code",
   "execution_count": 124,
   "metadata": {},
   "outputs": [],
   "source": [
    "import numpy as np\n",
    "import math"
   ]
  },
  {
   "cell_type": "code",
   "execution_count": 125,
   "metadata": {},
   "outputs": [],
   "source": [
    "def sigmoid(x):\n",
    "    return (1/(1+math.e**(-x)))\n"
   ]
  },
  {
   "cell_type": "code",
   "execution_count": 126,
   "metadata": {},
   "outputs": [],
   "source": [
    "def sigmoidprime(x):\n",
    "    return sigmoid(x) * (1-sigmoid(x))"
   ]
  },
  {
   "cell_type": "code",
   "execution_count": 127,
   "metadata": {},
   "outputs": [],
   "source": [
    "# To make sure that you get the implementation right let us first have a look at the data structure.\n",
    "# These are the four possible input pairs of (x1,x2).\n",
    "x = np.array([[0,0],[0,1],[1,0],[1,1]])\n",
    "\n",
    "# These are possible labels for all logical gates/tasks.\n",
    "tasks = {\n",
    "    \"t_and\" : np.array([0,0,0,1]),\n",
    "    \"t_or\" : np.array([0,1,1,1]),\n",
    "    \"t_nand\" : np.array([1,1,1,0]),\n",
    "    \"t_nor\" : np.array([1,0,0,0]),\n",
    "    \"t_xor\" : np.array([0,1,1,0])\n",
    "}"
   ]
  },
  {
   "cell_type": "code",
   "execution_count": 128,
   "metadata": {},
   "outputs": [],
   "source": [
    "class Perceptron:\n",
    "    \n",
    "    def __init__(self, input_units):\n",
    "        self.input_units = input_units\n",
    "        # 1. Initialize random weights and a random bias term. Check 'np.random.randn()'.\n",
    "        self.weights = np.random.randn(input_units)\n",
    "        self.bias = np.random.randn()\n",
    "        # 2. Define the learning rate as 1\n",
    "        self.alpha = 1\n",
    "        #store net-input of neuron\n",
    "        self.weighted_sum = 0\n",
    "        \n",
    "    def forward_step(self, input):\n",
    "        # Perform a perceptron forward step.\n",
    "        # 1. Calculate the drive.\n",
    "        self.weighted_sum = np.dot(input, self.weights)  + self.bias \n",
    "\n",
    "        # 2. Return activation of Perceptron\n",
    "        return sigmoid(self.weighted_sum)\n",
    "\n",
    "        \n",
    "    #activation = activation array of previous perceptron layer\n",
    "    def update(self, delta, activation):\n",
    "        # 1. Bias update\n",
    "        self.bias = self.bias - (self.alpha * delta)\n",
    "        # 2. Weights update\n",
    "        for i in range(self.input_units):\n",
    "            self.weights[i] = self.weights[i] - (self.alpha * delta * activation[i])\n",
    "        "
   ]
  },
  {
   "cell_type": "code",
   "execution_count": 129,
   "metadata": {
    "scrolled": true
   },
   "outputs": [],
   "source": [
    "class MLP:\n",
    "    \n",
    "    def __init__(self, task_label):\n",
    "        #Store coorect labels for task\n",
    "        self.task_label = task_label\n",
    "        \n",
    "        #Create array with 4 Perceptrons (hidden layer)\n",
    "        self.perceptrons = np.array([Perceptron(2), Perceptron(2), Perceptron(2), Perceptron(2)])\n",
    "        #Create the one read-out Perceptron\n",
    "        self.readout_perceptron = Perceptron(4)\n",
    "        \n",
    "        #output of MLP\n",
    "        self.output = 0.0\n",
    "        #Storage of activity in hidden layer\n",
    "        self.activation = np.empty(4)\n",
    "    \n",
    "    def forward_step(self, input_index):\n",
    "        #current sample\n",
    "        sample = x[input_index]\n",
    "        \n",
    "        #Processing drive for every Perceptron in hidden layer (self.perceptrons)\n",
    "        for i in range(4):\n",
    "            self.activation[i] = self.perceptrons[i].forward_step(sample)\n",
    "        #Storing output of network\n",
    "        self.output = self.readout_perceptron.forward_step(self.activation)\n",
    "        \n",
    "        \n",
    "    def backprop_step(self, input_index):\n",
    "        #current LABEL for this specific sample\n",
    "        label = self.task_label[input_index]\n",
    "                \n",
    "        #DELTA calculation for read_out Perceptron\n",
    "        # -(target-activation)*sigmoid'(drive) for l=N (output layer)\n",
    "        readout_perceptron_delta = (-(label - self.output)) * sigmoidprime(self.readout_perceptron.weighted_sum)\n",
    "        #delta calculation for hidden layer Perceptrons\n",
    "        delta = np.empty(4)\n",
    "        for i in range(4):\n",
    "            # (sum irrelevant because in this case there is just one perceptron in subsequent layer)\n",
    "            # delta(l+1)*weight(i)(l+1)*sigmoidprime(drive(l))\n",
    "            delta[i] = readout_perceptron_delta * self.readout_perceptron.weights[i] * sigmoidprime(self.perceptrons[i].weighted_sum)\n",
    "        \n",
    "        #calling for UPDATE weights and bias\n",
    "        #1. update output layer, with activations of hidden layer\n",
    "        self.readout_perceptron.update(readout_perceptron_delta, self.activation)\n",
    "        #2. update hidden layer with activation of previous layer (= input-sample)\n",
    "        for i in range(4):\n",
    "            self.perceptrons[i].update(delta[i], x[input_index])\n",
    "            \n",
    "            \n",
    "        #Calculate LOSS and ACCURACY measurements for this specific trial\n",
    "        #loss calculation\n",
    "        single_loss = (label - self.output)**2\n",
    "        #accuracy calculation\n",
    "        if abs((label - self.output)) < 0.5:\n",
    "            single_accuracy = 1\n",
    "        else:\n",
    "            single_accuracy = 0\n",
    "            \n",
    "        #returning both measurements for further, broader calculations\n",
    "        return np.array([single_loss, single_accuracy])"
   ]
  },
  {
   "cell_type": "code",
   "execution_count": 130,
   "metadata": {},
   "outputs": [
    {
     "name": "stdout",
     "output_type": "stream",
     "text": [
      "LOGICAL OPERATOR that will be trained on: \n",
      "t_nand\n"
     ]
    }
   ],
   "source": [
    "#Logical operators to be trained\n",
    "task_choice = np.array([\"t_and\", \"t_or\", \"t_nand\", \"t_nor\", \"t_xor\"])\n",
    "\n",
    "#Storage of mean accuracy and mean loss per epoch, temporary storage of loss_sum and accuracy_sum for each individual epoch\n",
    "accuracy = []\n",
    "loss = []\n",
    "accuracy_sum = 0\n",
    "loss_sum = 0\n",
    "\n",
    "#Randomly choose task\n",
    "j = np.random.randint(0, 5)\n",
    "\n",
    "#Display of logic operator to be trained on\n",
    "print(\"LOGICAL OPERATOR that will be trained on: \")\n",
    "print(task_choice[j])\n",
    "\n",
    "task_label = tasks[task_choice[j]]\n",
    "\n",
    "#Create MLP for each task/logical operator\n",
    "MLP = MLP(task_label)\n",
    "#repeat course for 1000 epochs\n",
    "for i in range(1000):    \n",
    "    #execute training for every possible data set/sample\n",
    "    for k in range(4):\n",
    "        #store input index for identification of label\n",
    "        input_index = k\n",
    "        #Do one training step, get individual loss and accuary measurements for this sample\n",
    "        MLP.forward_step(input_index)\n",
    "        single_measurements = MLP.backprop_step(input_index)\n",
    "\n",
    "        #Sum up loss and accuracy measurements over one epoch (4 because of 4 samples)\n",
    "        loss_sum = loss_sum + single_measurements[0]\n",
    "        accuracy_sum = accuracy_sum + single_measurements[1]\n",
    "\n",
    "    #Calculate mean accuracy and mean loss for this epoch and add it to accuracy list for visualization\n",
    "    accuracy.append((accuracy_sum / 4))\n",
    "    loss.append((loss_sum/4))\n",
    "\n",
    "    #reset loss and accuracy count for one epoch\n",
    "    loss_sum = 0\n",
    "    accuracy_sum = 0\n",
    "        "
   ]
  },
  {
   "cell_type": "code",
   "execution_count": 131,
   "metadata": {},
   "outputs": [
    {
     "data": {
      "image/png": "[encoded data removed]",
      "text/plain": [
       "<Figure size 432x288 with 1 Axes>"
      ]
     },
     "metadata": {
      "needs_background": "light"
     },
     "output_type": "display_data"
    }
   ],
   "source": [
    "#Plot accuracy over epochs\n",
    "import matplotlib.pyplot as plt\n",
    "plt.figure()\n",
    "plt.plot(range(1000), accuracy)\n",
    "plt.xlabel(\"Training Epochs\")\n",
    "plt.ylabel(\"Accuracy\")\n",
    "plt.ylim([-0.1, 1.2])\n",
    "plt.show()"
   ]
  },
  {
   "cell_type": "code",
   "execution_count": 132,
   "metadata": {},
   "outputs": [
    {
     "name": "stdout",
     "output_type": "stream",
     "text": [
      "[0.75, 0.75, 0.75, 0.75, 0.75, 0.75, 0.75, 0.75, 0.75, 0.75, 0.75, 0.75, 0.75, 0.75, 0.75, 0.75, 0.75, 0.75, 0.75, 0.75, 0.75, 0.75, 0.75, 0.75, 0.75, 0.75, 0.75, 0.75, 0.75, 0.75, 0.75, 0.75, 0.75, 0.75, 0.75, 0.75, 0.75, 0.75, 0.75, 1.0, 1.0, 1.0, 1.0, 1.0, 1.0, 1.0, 1.0, 1.0, 1.0, 1.0, 1.0, 1.0, 1.0, 1.0, 1.0, 1.0, 1.0, 1.0, 1.0, 1.0, 1.0, 1.0, 1.0, 1.0, 1.0, 1.0, 1.0, 1.0, 1.0, 1.0, 1.0, 1.0, 1.0, 1.0, 1.0, 1.0, 1.0, 1.0, 1.0, 1.0, 1.0, 1.0, 1.0, 1.0, 1.0, 1.0, 1.0, 1.0, 1.0, 1.0, 1.0, 1.0, 1.0, 1.0, 1.0, 1.0, 1.0, 1.0, 1.0, 1.0, 1.0, 1.0, 1.0, 1.0, 1.0, 1.0, 1.0, 1.0, 1.0, 1.0, 1.0, 1.0, 1.0, 1.0, 1.0, 1.0, 1.0, 1.0, 1.0, 1.0, 1.0, 1.0, 1.0, 1.0, 1.0, 1.0, 1.0, 1.0, 1.0, 1.0, 1.0, 1.0, 1.0, 1.0, 1.0, 1.0, 1.0, 1.0, 1.0, 1.0, 1.0, 1.0, 1.0, 1.0, 1.0, 1.0, 1.0, 1.0, 1.0, 1.0, 1.0, 1.0, 1.0, 1.0, 1.0, 1.0, 1.0, 1.0, 1.0, 1.0, 1.0, 1.0, 1.0, 1.0, 1.0, 1.0, 1.0, 1.0, 1.0, 1.0, 1.0, 1.0, 1.0, 1.0, 1.0, 1.0, 1.0, 1.0, 1.0, 1.0, 1.0, 1.0, 1.0, 1.0, 1.0, 1.0, 1.0, 1.0, 1.0, 1.0, 1.0, 1.0, 1.0, 1.0, 1.0, 1.0, 1.0, 1.0, 1.0, 1.0, 1.0, 1.0, 1.0, 1.0, 1.0, 1.0, 1.0, 1.0, 1.0, 1.0, 1.0, 1.0, 1.0, 1.0, 1.0, 1.0, 1.0, 1.0, 1.0, 1.0, 1.0, 1.0, 1.0, 1.0, 1.0, 1.0, 1.0, 1.0, 1.0, 1.0, 1.0, 1.0, 1.0, 1.0, 1.0, 1.0, 1.0, 1.0, 1.0, 1.0, 1.0, 1.0, 1.0, 1.0, 1.0, 1.0, 1.0, 1.0, 1.0, 1.0, 1.0, 1.0, 1.0, 1.0, 1.0, 1.0, 1.0, 1.0, 1.0, 1.0, 1.0, 1.0, 1.0, 1.0, 1.0, 1.0, 1.0, 1.0, 1.0, 1.0, 1.0, 1.0, 1.0, 1.0, 1.0, 1.0, 1.0, 1.0, 1.0, 1.0, 1.0, 1.0, 1.0, 1.0, 1.0, 1.0, 1.0, 1.0, 1.0, 1.0, 1.0, 1.0, 1.0, 1.0, 1.0, 1.0, 1.0, 1.0, 1.0, 1.0, 1.0, 1.0, 1.0, 1.0, 1.0, 1.0, 1.0, 1.0, 1.0, 1.0, 1.0, 1.0, 1.0, 1.0, 1.0, 1.0, 1.0, 1.0, 1.0, 1.0, 1.0, 1.0, 1.0, 1.0, 1.0, 1.0, 1.0, 1.0, 1.0, 1.0, 1.0, 1.0, 1.0, 1.0, 1.0, 1.0, 1.0, 1.0, 1.0, 1.0, 1.0, 1.0, 1.0, 1.0, 1.0, 1.0, 1.0, 1.0, 1.0, 1.0, 1.0, 1.0, 1.0, 1.0, 1.0, 1.0, 1.0, 1.0, 1.0, 1.0, 1.0, 1.0, 1.0, 1.0, 1.0, 1.0, 1.0, 1.0, 1.0, 1.0, 1.0, 1.0, 1.0, 1.0, 1.0, 1.0, 1.0, 1.0, 1.0, 1.0, 1.0, 1.0, 1.0, 1.0, 1.0, 1.0, 1.0, 1.0, 1.0, 1.0, 1.0, 1.0, 1.0, 1.0, 1.0, 1.0, 1.0, 1.0, 1.0, 1.0, 1.0, 1.0, 1.0, 1.0, 1.0, 1.0, 1.0, 1.0, 1.0, 1.0, 1.0, 1.0, 1.0, 1.0, 1.0, 1.0, 1.0, 1.0, 1.0, 1.0, 1.0, 1.0, 1.0, 1.0, 1.0, 1.0, 1.0, 1.0, 1.0, 1.0, 1.0, 1.0, 1.0, 1.0, 1.0, 1.0, 1.0, 1.0, 1.0, 1.0, 1.0, 1.0, 1.0, 1.0, 1.0, 1.0, 1.0, 1.0, 1.0, 1.0, 1.0, 1.0, 1.0, 1.0, 1.0, 1.0, 1.0, 1.0, 1.0, 1.0, 1.0, 1.0, 1.0, 1.0, 1.0, 1.0, 1.0, 1.0, 1.0, 1.0, 1.0, 1.0, 1.0, 1.0, 1.0, 1.0, 1.0, 1.0, 1.0, 1.0, 1.0, 1.0, 1.0, 1.0, 1.0, 1.0, 1.0, 1.0, 1.0, 1.0, 1.0, 1.0, 1.0, 1.0, 1.0, 1.0, 1.0, 1.0, 1.0, 1.0, 1.0, 1.0, 1.0, 1.0, 1.0, 1.0, 1.0, 1.0, 1.0, 1.0, 1.0, 1.0, 1.0, 1.0, 1.0, 1.0, 1.0, 1.0, 1.0, 1.0, 1.0, 1.0, 1.0, 1.0, 1.0, 1.0, 1.0, 1.0, 1.0, 1.0, 1.0, 1.0, 1.0, 1.0, 1.0, 1.0, 1.0, 1.0, 1.0, 1.0, 1.0, 1.0, 1.0, 1.0, 1.0, 1.0, 1.0, 1.0, 1.0, 1.0, 1.0, 1.0, 1.0, 1.0, 1.0, 1.0, 1.0, 1.0, 1.0, 1.0, 1.0, 1.0, 1.0, 1.0, 1.0, 1.0, 1.0, 1.0, 1.0, 1.0, 1.0, 1.0, 1.0, 1.0, 1.0, 1.0, 1.0, 1.0, 1.0, 1.0, 1.0, 1.0, 1.0, 1.0, 1.0, 1.0, 1.0, 1.0, 1.0, 1.0, 1.0, 1.0, 1.0, 1.0, 1.0, 1.0, 1.0, 1.0, 1.0, 1.0, 1.0, 1.0, 1.0, 1.0, 1.0, 1.0, 1.0, 1.0, 1.0, 1.0, 1.0, 1.0, 1.0, 1.0, 1.0, 1.0, 1.0, 1.0, 1.0, 1.0, 1.0, 1.0, 1.0, 1.0, 1.0, 1.0, 1.0, 1.0, 1.0, 1.0, 1.0, 1.0, 1.0, 1.0, 1.0, 1.0, 1.0, 1.0, 1.0, 1.0, 1.0, 1.0, 1.0, 1.0, 1.0, 1.0, 1.0, 1.0, 1.0, 1.0, 1.0, 1.0, 1.0, 1.0, 1.0, 1.0, 1.0, 1.0, 1.0, 1.0, 1.0, 1.0, 1.0, 1.0, 1.0, 1.0, 1.0, 1.0, 1.0, 1.0, 1.0, 1.0, 1.0, 1.0, 1.0, 1.0, 1.0, 1.0, 1.0, 1.0, 1.0, 1.0, 1.0, 1.0, 1.0, 1.0, 1.0, 1.0, 1.0, 1.0, 1.0, 1.0, 1.0, 1.0, 1.0, 1.0, 1.0, 1.0, 1.0, 1.0, 1.0, 1.0, 1.0, 1.0, 1.0, 1.0, 1.0, 1.0, 1.0, 1.0, 1.0, 1.0, 1.0, 1.0, 1.0, 1.0, 1.0, 1.0, 1.0, 1.0, 1.0, 1.0, 1.0, 1.0, 1.0, 1.0, 1.0, 1.0, 1.0, 1.0, 1.0, 1.0, 1.0, 1.0, 1.0, 1.0, 1.0, 1.0, 1.0, 1.0, 1.0, 1.0, 1.0, 1.0, 1.0, 1.0, 1.0, 1.0, 1.0, 1.0, 1.0, 1.0, 1.0, 1.0, 1.0, 1.0, 1.0, 1.0, 1.0, 1.0, 1.0, 1.0, 1.0, 1.0, 1.0, 1.0, 1.0, 1.0, 1.0, 1.0, 1.0, 1.0, 1.0, 1.0, 1.0, 1.0, 1.0, 1.0, 1.0, 1.0, 1.0, 1.0, 1.0, 1.0, 1.0, 1.0, 1.0, 1.0, 1.0, 1.0, 1.0, 1.0, 1.0, 1.0, 1.0, 1.0, 1.0, 1.0, 1.0, 1.0, 1.0, 1.0, 1.0, 1.0, 1.0, 1.0, 1.0, 1.0, 1.0, 1.0, 1.0, 1.0, 1.0, 1.0, 1.0, 1.0, 1.0, 1.0, 1.0, 1.0, 1.0, 1.0, 1.0, 1.0, 1.0, 1.0, 1.0, 1.0, 1.0, 1.0, 1.0, 1.0, 1.0, 1.0, 1.0, 1.0, 1.0, 1.0, 1.0, 1.0, 1.0, 1.0, 1.0, 1.0, 1.0, 1.0, 1.0, 1.0, 1.0, 1.0, 1.0, 1.0, 1.0, 1.0, 1.0, 1.0, 1.0, 1.0, 1.0, 1.0, 1.0, 1.0, 1.0, 1.0, 1.0, 1.0, 1.0, 1.0, 1.0, 1.0, 1.0, 1.0, 1.0, 1.0, 1.0, 1.0, 1.0, 1.0, 1.0, 1.0, 1.0, 1.0, 1.0, 1.0, 1.0, 1.0, 1.0, 1.0, 1.0, 1.0, 1.0, 1.0, 1.0, 1.0, 1.0, 1.0, 1.0, 1.0, 1.0, 1.0, 1.0, 1.0, 1.0, 1.0, 1.0, 1.0, 1.0, 1.0, 1.0, 1.0, 1.0, 1.0, 1.0, 1.0, 1.0, 1.0, 1.0, 1.0, 1.0, 1.0, 1.0, 1.0, 1.0, 1.0, 1.0, 1.0, 1.0, 1.0, 1.0, 1.0, 1.0, 1.0, 1.0, 1.0, 1.0, 1.0, 1.0, 1.0, 1.0, 1.0, 1.0, 1.0, 1.0, 1.0, 1.0, 1.0, 1.0, 1.0, 1.0, 1.0, 1.0, 1.0, 1.0, 1.0, 1.0, 1.0, 1.0, 1.0, 1.0, 1.0, 1.0, 1.0, 1.0, 1.0, 1.0, 1.0, 1.0, 1.0, 1.0, 1.0, 1.0, 1.0, 1.0, 1.0, 1.0, 1.0, 1.0, 1.0, 1.0, 1.0, 1.0, 1.0, 1.0, 1.0, 1.0, 1.0, 1.0, 1.0, 1.0, 1.0, 1.0, 1.0, 1.0, 1.0, 1.0, 1.0, 1.0, 1.0, 1.0, 1.0]\n"
     ]
    }
   ],
   "source": [
    "print(accuracy)"
   ]
  },
  {
   "cell_type": "code",
   "execution_count": 133,
   "metadata": {},
   "outputs": [
    {
     "data": {
      "image/png": "[encoded data removed]",
      "text/plain": [
       "<Figure size 432x288 with 1 Axes>"
      ]
     },
     "metadata": {
      "needs_background": "light"
     },
     "output_type": "display_data"
    }
   ],
   "source": [
    "#Plot loss over epochs\n",
    "plt.figure()\n",
    "plt.plot(range(1000), loss)\n",
    "plt.xlabel(\"Training Epochs\")\n",
    "plt.ylabel(\"Loss\")\n",
    "plt.ylim([-0.1, 1.2])\n",
    "plt.show()"
   ]
  },
  {
   "cell_type": "code",
   "execution_count": 134,
   "metadata": {},
   "outputs": [
    {
     "name": "stdout",
     "output_type": "stream",
     "text": [
      "[0.19662817631564392, 0.1928454501127536, 0.1890749682037139, 0.185326995168835, 0.18161262158552366, 0.17794446012749374, 0.1743362130358104, 0.17080159190207045, 0.1673530925953461, 0.16400098755235426, 0.16075271260409457, 0.15761267022991696, 0.15458237475695508, 0.15166082584149554, 0.14884499804153173, 0.1461303572553625, 0.1435113441751972, 0.14098179165010988, 0.1385352631251589, 0.13616531262705228, 0.1338656742471548, 0.1316303923664618, 0.1294539044949104, 0.12733108773292956, 0.12525727830970826, 0.12322827190672407, 0.12124031081138087, 0.11929006249353644, 0.11737459299913407, 0.11549133760416447, 0.1136380704401681, 0.1118128742529273, 0.11001411105244809, 0.10824039412220751, 0.10649056165158548, 0.1047636521153705, 0.10305888143098299, 0.10137562186439397, 0.09971338261969724, 0.09807179202757223, 0.09645058123906235, 0.09484956932932624, 0.09326864971854246, 0.09170777782205178, 0.09016695984780476, 0.08864624266539572, 0.08714570467688201, 0.08566544762491543, 0.0842055892783089, 0.08276625693901465, 0.08134758171763441, 0.07994969352711448, 0.07857271674631275, 0.07721676650677159, 0.07588194555741623, 0.07456834166311854, 0.07327602549421493, 0.07200504896522011, 0.07075544398218228, 0.06952722155942939, 0.0683203712678736, 0.06713486097858931, 0.0659706368670526, 0.06482762364521852, 0.0637057249905024, 0.06260482414269589, 0.0615247846418724, 0.06046545118238597, 0.05942665056012533, 0.05840819269222439, 0.0574098716904304, 0.056431466971275046, 0.0554727443880603, 0.05453345737145508, 0.0536133480671836, 0.05271214846086206, 0.05182958148151523, 0.05096536207665439, 0.050119198253046254, 0.04929079207842792, 0.04847984064044386, 0.04768603695999425, 0.046909070856993494, 0.04614862976725338, 0.04540439950982898, 0.04467606500470499, 0.04396331094116264, 0.043265822397558495, 0.04258328541357138, 0.04191538751624325, 0.04126181820135236, 0.04062226937182841, 0.03999643573504372, 0.03938401516090662, 0.03878470900274272, 0.038198222382980554, 0.03762426444566742, 0.03706254857782991, 0.036512792601666184, 0.03597471893951497, 0.03544805475349453, 0.03493253206164369, 0.0344278878323282, 0.03393386405860348, 0.033450207814147336, 0.03297667129229842, 0.03251301182965419, 0.03205899191560438, 0.03161437918909373, 0.03117894642383101, 0.03075247150308344, 0.03033473738512168, 0.029925532060307722, 0.0295246485007494, 0.029131884603377775, 0.02874704312724078, 0.028369931625746723, 0.02800036237453169, 0.02763815229557471, 0.027283122878129028, 0.02693510009699397, 0.026593914328604192, 0.026259400265372317, 0.025931396828681338, 0.025609747080886786, 0.0252942981366538, 0.024984901073924072, 0.024681410844776618, 0.024383686186420457, 0.02409158953253176, 0.023804986925124706, 0.02352374792712429, 0.023247745535789843, 0.02297685609711944, 0.02271095922134966, 0.022449937699649668, 0.022193677422094788, 0.021942067296992315, 0.02169499917162094, 0.021452367754434584, 0.021214070538771994, 0.020980007728105272, 0.020750082162852186, 0.02052419924877092, 0.02030226688694882, 0.020084195405391914, 0.019869897492216196, 0.019659288130437765, 0.019452284534354908, 0.0192488060875108, 0.019048774282223888, 0.018852112660669072, 0.018658746757490813, 0.018468604043927375, 0.01828161387342329, 0.018097707428706256, 0.017916817670302385, 0.017738879286463557, 0.01756382864447946, 0.01739160374334603, 0.01722214416776142, 0.017055391043421006, 0.016891286993581098, 0.01672977609686274, 0.016570803846265466, 0.01641431710936154, 0.016260264089641353, 0.01610859428898028, 0.015959258471198726, 0.015812208626685812, 0.01566739793805854, 0.01552478074682897, 0.015384312521050936, 0.01524594982391978, 0.015109650283298134, 0.014975372562141962, 0.014843076329800569, 0.014712722234166285, 0.01458427187464837, 0.014457687775947865, 0.01433293336260949, 0.014209972934327787, 0.014088771641985104, 0.013969295464399753, 0.013851511185762883, 0.013735386373743719, 0.013620889358242457, 0.013507989210772023, 0.013396655724448701, 0.013286859394573951, 0.01317857139978887, 0.013071763583783888, 0.012966408437546845, 0.01286247908213287, 0.012759949251939915, 0.0126587932784746, 0.012558986074593124, 0.012460503119202711, 0.012363320442409184, 0.01226741461109729, 0.01217276271492997, 0.01207934235275402, 0.011987131619399337, 0.011896109092859729, 0.011806253821843575, 0.011717545313682683, 0.01162996352258849, 0.011543488838245068, 0.011458102074727996, 0.01137378445973964, 0.011290517624150948, 0.011208283591840063, 0.011127064769819044, 0.011046843938639618, 0.010967604243069407, 0.010889329183030514, 0.010812002604792334, 0.010735608692410777, 0.010660131959406585, 0.010585557240675322, 0.010511869684621951, 0.01043905474551335, 0.010367098176042071, 0.010295986020095004, 0.010225704605720611, 0.010156240538288997, 0.010087580693838836, 0.010019712212605583, 0.009952622492725556, 0.009886299184110752, 0.009820730182488968, 0.009755903623604694, 0.00969180787757582, 0.00962843154340145, 0.00956576344361654, 0.009503792619088909, 0.00944250832395447, 0.009381900020686555, 0.009321957375295587, 0.009262670252654998, 0.009204028711949936, 0.0091460230022452, 0.009088643558168661, 0.009031880995707234, 0.008975726108111766, 0.008920169861907953, 0.0088652033930101, 0.008810818002934852, 0.008757005155112005, 0.008703756471289584, 0.00865106372803057, 0.008598918853298654, 0.008547313923130425, 0.008496241158391716, 0.008445692921615497, 0.008395661713919277, 0.008346140171999559, 0.008297121065201363, 0.008248597292660625, 0.00820056188051747, 0.008153007979198382, 0.008105928860765471, 0.008059317916330702, 0.008013168653533692, 0.007967474694081014, 0.00792222977134537, 0.007877427728023238, 0.007833062513849109, 0.0077891281833648305, 0.007745618893742762, 0.0077025289026610875, 0.00765985256622988, 0.007617584336966722, 0.0075757187618204005, 0.00753425048024141, 0.007493174222298098, 0.007452484806837145, 0.007412177139687275, 0.007372246211904999, 0.007332687098061299, 0.0072934949545682744, 0.007254665018044482, 0.0072161926037181716, 0.007178073103867336, 0.007140301986295635, 0.007102874792843224, 0.007065787137931662, 0.0070290347071419335, 0.006992613255824858, 0.006956518607742842, 0.006920746653742397, 0.00688529335045661, 0.00685015471903652, 0.00681532684391116, 0.006780805871575072, 0.006746588009402845, 0.006712669524490032, 0.006679046742519587, 0.006645716046653365, 0.006612673876447998, 0.006579916726794444, 0.0065474411468809, 0.006515243739178112, 0.0064833211584468114, 0.00645167011076676, 0.006420287352586569, 0.006389169689794125, 0.00635831397680693, 0.0063277171156819745, 0.00629737605524446, 0.0062672877902352694, 0.006237449360476368, 0.006207857850053986, 0.006178510386518963, 0.006149404140103927, 0.006120536322956956, 0.006091904188391128, 0.006063505030149944, 0.006035336181687832, 0.0060073950154656535, 0.005979678942260791, 0.005952185410491452, 0.005924911905554821, 0.00589785594917885, 0.005871015098787284, 0.005844386946877561, 0.005817969120411487, 0.005791759280218143, 0.005765755120408927, 0.005739954367804369, 0.0057143547813724525, 0.005688954151678262, 0.00566375030034452, 0.005638741079522939, 0.005613924371376124, 0.0055892980875696645, 0.005564860168774284, 0.005540608584177827, 0.005516541331006866, 0.005492656434057568, 0.005468951945235865, 0.0054454259431065246, 0.005422076532450957, 0.00539890184383371, 0.005375900033177136, 0.0053530692813445295, 0.0053304077937310285, 0.005307913799862532, 0.005285585553002199, 0.00526342132976446, 0.005241419429736423, 0.005219578175106399, 0.005197895910299469, 0.005176371001619972, 0.0051550018369006245, 0.00513378682515833, 0.005112724396256346, 0.0050918130005728115, 0.005071051108675409, 0.005050437211002087, 0.005029969817547645, 0.00500964745755623, 0.004989468679219301, 0.004969432049379335, 0.004949536153238846, 0.004929779594074728, 0.0049101609929578845, 0.004890678988477816, 0.004871332236472344, 0.004852119409762101, 0.004833039197889923, 0.004814090306864781, 0.004795271458910488, 0.004776581392218737, 0.004758018860706648, 0.004739582633778573, 0.004721271496092177, 0.004703084247328629, 0.0046850197019668634, 0.004667076689061817, 0.004649254052026531, 0.004631550648418156, 0.004613965349727609, 0.004596497041172919, 0.0045791446214962315, 0.004561907002764223, 0.004544783110172085, 0.004527771881850802, 0.004510872268677817, 0.004494083234090855, 0.004477403753905055, 0.004460832816133143, 0.004444369420808699, 0.0044280125798124015, 0.004411761316701296, 0.004395614666540856, 0.004379571675739905, 0.004363631401888401, 0.004347792913597805, 0.004332055290344231, 0.0043164176223141944, 0.004300879010252896, 0.004285438565315066, 0.004270095408918249, 0.0042548486725985536, 0.004239697497868806, 0.004224641036078904, 0.004209678448278657, 0.004194808905082719, 0.004180031586537806, 0.004165345681992083, 0.004150750389966609, 0.00413624491802898, 0.004121828482668873, 0.004107500309175739, 0.0040932596315183985, 0.004079105692226558, 0.004065037742274277, 0.004051055040965246, 0.0040371568558199575, 0.004023342462464615, 0.004009611144521821, 0.003995962193503053, 0.00398239490870274, 0.003968908597094112, 0.003955502573226594, 0.003942176159124889, 0.003928928684189616, 0.003915759485099472, 0.0039026679057149647, 0.003889653296983619, 0.0038767150168466345, 0.003863852430147025, 0.0038510649085391844, 0.003838351830399803, 0.003825712580740175, 0.0038131465511198432, 0.0038006531395616133, 0.003788231750467801, 0.003775881794537754, 0.003763602688686737, 0.00375139385596587, 0.0037392547254834485, 0.003727184732327343, 0.003715183317488585, 0.0037032499277862034, 0.003691384015792993, 0.00367958503976255, 0.0036678524635574074, 0.0036561857565780924, 0.0036445843936934, 0.003633047855171609, 0.003621575626612714, 0.0036101671988817215, 0.0035988220680428966, 0.00358753973529494, 0.0035763197069071375, 0.0035651614941565003, 0.003554064613265734, 0.003543028585342182, 0.0035320529363176032, 0.0035211371968888786, 0.0035102809024595057, 0.0034994835930820204, 0.003488744813401183, 0.003478064112598005, 0.003467441044334593, 0.003456875166699776, 0.0034463660421554534, 0.0034359132374838517, 0.003425516323735325, 0.003415174876177098, 0.0034048884742426044, 0.003394656701481597, 0.003384479145510941, 0.0033743553979661235, 0.003364285054453413, 0.0033542677145026968, 0.00334430298152103, 0.0033343904627467285, 0.0033245297692041957, 0.0033147205156593704, 0.0033049623205757056, 0.0032952548060708785, 0.003285597597873971, 0.003275990325283371, 0.003266432621125163, 0.0032569241217120983, 0.0032474644668031814, 0.003238053299563722, 0.003228690266526041, 0.0032193750175506094, 0.0032101072057877725, 0.0032008864876399935, 0.003191712522724553, 0.0031825849738368523, 0.0031735035069140986, 0.0031644677909995356, 0.00315547749820721, 0.003146532303687083, 0.0031376318855906955, 0.003128775925037272, 0.00311996410608031, 0.003111196115674502, 0.0031024716436432636, 0.003093790382646515, 0.003085152028149029, 0.0030765562783891306, 0.003068002834347805, 0.003059491399718213, 0.003051021680875657, 0.0030425933868478824, 0.0030342062292857525, 0.0030258599224343777, 0.0030175541831045606, 0.003009288730644634, 0.0030010632869126525, 0.0029928775762489692, 0.0029847313254491256, 0.0029766242637371118, 0.0029685561227389976, 0.002960526636456824, 0.002952535541242959, 0.0029445825757746123, 0.0029366674810288084, 0.002928790000257654, 0.0029209498789638496, 0.0029131468648765724, 0.002905380707927709, 0.00289765116022825, 0.002889957976045114, 0.002882300911778186, 0.002874679725937697, 0.0028670941791218343, 0.002859544033994694, 0.0028520290552644097, 0.0028445490096616816, 0.0028371036659184824, 0.00282969279474704, 0.0028223161688191024, 0.0028149735627454615, 0.0028076647530556995, 0.002800389518178204, 0.002793147638420441, 0.0027859388959494535, 0.0027787630747725797, 0.002771619960718458, 0.0027645093414182184, 0.0027574310062869287, 0.0027503847465052468, 0.002743370355001297, 0.0027363876264328083, 0.002729436357169405, 0.00272251634527515, 0.002715627390491283, 0.002708769294219193, 0.002701941859503519, 0.0026951448910155955, 0.0026883781950369353, 0.0026816415794430042, 0.0026749348536871933, 0.0026682578287849086, 0.0026616103172979453, 0.002654992133318962, 0.0026484030924561865, 0.002641843011818323, 0.002635311709999531, 0.0026288090070647335, 0.002622334724534987, 0.002615888685373035, 0.0026094707139691013, 0.002603080636126719, 0.002596718279048887, 0.002590383471324278, 0.0025840760429136, 0.0025777958251361945, 0.002571542650656706, 0.002565316353471985, 0.002559116768898065, 0.0025529437335573475, 0.002546797085365902, 0.002540676663520934, 0.002534582308488363, 0.002528513861990587, 0.0025224711669943516, 0.002516454067698781, 0.002510462409523507, 0.0025044960390969884, 0.0024985548042449224, 0.002492638553978797, 0.0024867471384845737, 0.0024808804091115077, 0.002475038218361061, 0.002469220419875991, 0.002463426868429526, 0.002457657419914661, 0.002451911931333573, 0.0024461902607871983, 0.002440492267464862, 0.002434817811634053, 0.0024291667546303226, 0.002423538958847276, 0.0024179342877266984, 0.0024123526057487346, 0.0024067937784222615, 0.002401257672275299, 0.00239574415484554, 0.002390253094671026, 0.002384784361280839, 0.0023793378251859964, 0.0023739133578703875, 0.0023685108317817857, 0.002363130120323033, 0.002357771097843248, 0.002352433639629163, 0.002347117621896589, 0.0023418229217818543, 0.0023365494173335022, 0.002331296987503944, 0.002326065512141268, 0.0023208548719810887, 0.0023156649486385595, 0.002310495624600375, 0.002305346783216953, 0.002300218308694627, 0.002295110086087941, 0.002290022001292074, 0.0022849539410352573, 0.002279905792871358, 0.0022748774451724955, 0.0022698687871217146, 0.002264879708705807, 0.0022599101007081393, 0.002254959854701596, 0.002250028863041576, 0.0022451170188590736, 0.002240224216053822, 0.0022353503492875343, 0.002230495313977182, 0.002225659006288337, 0.0022208413231286496, 0.0022160421621413074, 0.002211261421698628, 0.002206499000895661, 0.0022017547995439226, 0.002197028718165135, 0.0021923206579850738, 0.0021876305209274274, 0.002182958209607782, 0.002178303627327626, 0.002173666678068428, 0.0021690472664857804, 0.002164445297903568, 0.0021598606783082746, 0.002155293314343249, 0.0021507431133031114, 0.002146209983128158, 0.0021416938323988687, 0.0021371945703304303, 0.0021327121067673477, 0.0021282463521780787, 0.0021237972176497482, 0.0021193646148829305, 0.002114948456186391, 0.0021105486544720302, 0.0021061651232497374, 0.0021017977766223817, 0.002097446529280828, 0.002093111296498988, 0.0020887919941289467, 0.002084488538596092, 0.002080200846894382, 0.002075928836581555, 0.0020716724257744293, 0.0020674315331442993, 0.0020632060779122953, 0.002058995979844799, 0.0020548011592489983, 0.0020506215369683663, 0.0020464570343782375, 0.0020423075733814492, 0.0020381730764039707, 0.0020340534663906363, 0.002029948666800856, 0.002025858601604435, 0.0020217831952773577, 0.002017722372797689, 0.002013676059641473, 0.002009644181778664, 0.0020056266656691144, 0.0020016234382586196, 0.0019976344269749388, 0.001993659559723943, 0.001989698764885703, 0.0019857519713107, 0.001981819108316024, 0.001977900105681586, 0.001973994893646471, 0.0019701034029051883, 0.0019662255646040547, 0.001962361310337561, 0.0019585105721448455, 0.0019546732825060577, 0.0019508493743389493, 0.001947038780995302, 0.0019432414362575466, 0.0019394572743353245, 0.0019356862298620945, 0.0019319282378918042, 0.0019281832338955641, 0.0019244511537583498, 0.0019207319337757613, 0.001917025510650772, 0.0019133318214905799, 0.0019096508038033667, 0.001905982395495226, 0.0019023265348670256, 0.001898683160611338, 0.0018950522118093619, 0.001891433627927938, 0.0018878273488165238, 0.0018842333147042422, 0.0018806514661969319, 0.0018770817442742434, 0.0018735240902867287, 0.0018699784459530056, 0.0018664447533569219, 0.0018629229549447267, 0.0018594129935222965, 0.0018559148122523933, 0.0018524283546519035, 0.001848953564589152, 0.0018454903862812, 0.001842038764291219, 0.0018385986435258091, 0.001835169969232405, 0.0018317526869967321, 0.0018283467427401587, 0.0018249520827172232, 0.0018215686535130796, 0.0018181964020410142, 0.0018148352755399742, 0.001811485221572097, 0.0018081461880203006, 0.0018048181230858682, 0.0018015009752860522, 0.0017981946934517187, 0.0017948992267250038, 0.0017916145245569868, 0.0017883405367053616, 0.0017850772132322055, 0.001781824504501657, 0.00177858236117773, 0.0017753507342220412, 0.0017721295748916275, 0.001768918834736772, 0.0017657184655988192, 0.0017625284196080217, 0.0017593486491814408, 0.001756179107020825, 0.0017530197461105021, 0.0017498705197153343, 0.0017467313813786206, 0.0017436022849201221, 0.0017404831844339917, 0.0017373740342867742, 0.0017342747891154636, 0.0017311854038254905, 0.0017281058335887971, 0.0017250360338418778, 0.001721975960283889, 0.0017189255688747503, 0.0017158848158332295, 0.0017128536576351081, 0.0017098320510112877, 0.0017068199529460147, 0.0017038173206749899, 0.0017008241116836138, 0.0016978402837051847, 0.0016948657947191002, 0.001691900602949122, 0.0016889446668616442, 0.001685997945163912, 0.001683060396802352, 0.0016801319809608634, 0.0016772126570591146, 0.0016743023847508756, 0.001671401123922371, 0.0016685088346906347, 0.0016656254774018667, 0.0016627510126298044, 0.0016598854011741692, 0.0016570286040590153, 0.0016541805825311953, 0.0016513412980587781, 0.0016485107123294963, 0.0016456887872492198, 0.0016428754849404149, 0.001640070767740646, 0.0016372745982010755, 0.0016344869390849616, 0.0016317077533661941, 0.0016289370042278286, 0.0016261746550606348, 0.0016234206694616515, 0.0016206750112327738, 0.0016179376443793308, 0.001615208533108666, 0.001612487641828758, 0.0016097749351468554, 0.0016070703778680762, 0.001604373934994057, 0.0016016855717216178, 0.0015990052534414177, 0.0015963329457366303, 0.0015936686143816145, 0.0015910122253406384, 0.0015883637447665537, 0.0015857231389995318, 0.001583090374565785, 0.001580465418176305, 0.0015778482367256067, 0.0015752387972904872, 0.0015726370671287808, 0.0015700430136781733, 0.0015674566045549418, 0.0015648778075527743, 0.0015623065906415759, 0.0015597429219662952, 0.0015571867698457088, 0.0015546381027713068, 0.0015520968894060989, 0.001549563098583493, 0.0015470366993061192, 0.0015445176607447627, 0.0015420059522371732, 0.0015395015432870087, 0.0015370044035626978, 0.0015345145028963707, 0.0015320318112827468, 0.0015295562988780933, 0.0015270879359991197, 0.0015246266931219442, 0.001522172540881027, 0.0015197254500681442, 0.001517285391631317, 0.0015148523366738413, 0.0015124262564532, 0.0015100071223801159, 0.0015075949060174955, 0.0015051895790794822, 0.0015027911134304268, 0.001500399481083917, 0.0014980146542018338, 0.001495636605093335, 0.001493265306213955, 0.0014909007301646042, 0.0014885428496906562, 0.0014861916376810035, 0.0014838470671671206, 0.0014815091113221592, 0.0014791777434600155, 0.0014768529370344425, 0.001474534665638124, 0.00147222290300181, 0.001469917622993408, 0.0014676187996171082, 0.001465326407012515, 0.001463040419453779, 0.0014607608113487362, 0.001458487557238041, 0.0014562206317943372, 0.0014539600098214213, 0.0014517056662533864, 0.001449457576153811, 0.0014472157147149228, 0.0014449800572567985, 0.0014427505792265407, 0.0014405272561974843, 0.001438310063868406, 0.0014360989780626966, 0.0014338939747276253, 0.0014316950299335255, 0.001429502119873021, 0.00142731522086028, 0.0014251343093302398, 0.0014229593618378402, 0.0014207903550572877, 0.0014186272657813119, 0.001416470070920394, 0.0014143187475020918, 0.0014121732726702428, 0.0014100336236842895, 0.0014078997779185354, 0.0014057717128614406, 0.0014036494061149237, 0.0014015328353936345, 0.001399421978524271, 0.0013973168134449022, 0.001395217318204251, 0.0013931234709610276, 0.0013910352499832551, 0.001388952633647583, 0.0013868756004386472, 0.0013848041289483705, 0.0013827381978753312, 0.0013806777860240998, 0.0013786228723045915, 0.0013765734357314386, 0.00137452945542332, 0.0013724909106023436, 0.0013704577805934291, 0.0013684300448236642, 0.0013664076828216912, 0.0013643906742170863, 0.0013623789987397606, 0.0013603726362193284, 0.0013583715665845362, 0.0013563757698626326, 0.0013543852261787984, 0.0013523999157555393, 0.0013504198189121135, 0.0013484449160639327, 0.00134647518772201, 0.001344510614492358, 0.0013425511770754337, 0.0013405968562655833, 0.0013386476329504677, 0.0013367034881104926, 0.0013347644028182779, 0.0013328303582381088, 0.0013309013356253643, 0.0013289773163260082, 0.001327058281776023, 0.0013251442135008952, 0.0013232350931150735, 0.0013213309023214419, 0.001319431622910816, 0.0013175372367613906, 0.0013156477258382468, 0.0013137630721928467, 0.0013118832579625027, 0.0013100082653698755, 0.0013081380767224933, 0.0013062726744122353, 0.0013044120409148395, 0.0013025561587894229, 0.0013007050106779738, 0.0012988585793048952, 0.0012970168474764874, 0.0012951797980805034, 0.0012933474140856627, 0.0012915196785411786, 0.0012896965745762866, 0.0012878780853997867, 0.0012860641942995879, 0.0012842548846422322, 0.0012824501398724447, 0.0012806499435127064, 0.0012788542791627696, 0.0012770631304992335, 0.0012752764812750898, 0.0012734943153193015, 0.0012717166165363458, 0.0012699433689057826, 0.0012681745564818434, 0.001266410163392983, 0.0012646501738414573, 0.0012628945721029228, 0.0012611433425259739, 0.0012593964695317697, 0.0012576539376135984, 0.0012559157313364801, 0.0012541818353367378, 0.001252452234321621, 0.0012507269130688687, 0.001249005856426331, 0.0012472890493115956, 0.0012455764767115266, 0.0012438681236819397, 0.0012421639753471803, 0.0012404640168997467, 0.0012387682335998954, 0.0012370766107752662, 0.0012353891338205175, 0.0012337057881969184, 0.0012320265594320074, 0.001230351433119205, 0.0012286803949174397, 0.0012270134305507907, 0.0012253505258081297, 0.0012236916665427449, 0.0012220368386719877, 0.0012203860281769182, 0.0012187392211019516, 0.001217096403554501, 0.0012154575617046321, 0.0012138226817847153, 0.0012121917500890781, 0.0012105647529736597]\n"
     ]
    }
   ],
   "source": [
    "print(loss)"
   ]
  },
  {
   "cell_type": "code",
   "execution_count": null,
   "metadata": {},
   "outputs": [],
   "source": []
  },
  {
   "cell_type": "code",
   "execution_count": null,
   "metadata": {},
   "outputs": [],
   "source": []
  },
  {
   "cell_type": "code",
   "execution_count": null,
   "metadata": {},
   "outputs": [],
   "source": []
  }
 ],
 "metadata": {
  "kernelspec": {
   "display_name": "Python 3",
   "language": "python",
   "name": "python3"
  },
  "language_info": {
   "codemirror_mode": {
    "name": "ipython",
    "version": 3
   },
   "file_extension": ".py",
   "mimetype": "text/x-python",
   "name": "python",
   "nbconvert_exporter": "python",
   "pygments_lexer": "ipython3",
   "version": "3.8.3"
  }
 },
 "nbformat": 4,
 "nbformat_minor": 4
}
