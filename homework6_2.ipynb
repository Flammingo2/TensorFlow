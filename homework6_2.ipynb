{
  "nbformat": 4,
  "nbformat_minor": 0,
  "metadata": {
    "colab": {
      "name": "homework6_2.ipynb",
      "provenance": [],
      "collapsed_sections": [],
      "authorship_tag": "ABX9TyNvT3dk1nSJLAPDTxzthjJh",
      "include_colab_link": true
    },
    "kernelspec": {
      "name": "python3",
      "display_name": "Python 3"
    },
    "accelerator": "GPU"
  },
  "cells": [
    {
      "cell_type": "markdown",
      "metadata": {
        "id": "view-in-github",
        "colab_type": "text"
      },
      "source": [
        "<a href=\"https://colab.research.google.com/github/Flammingo2/TensorFlow/blob/main/homework6_2.ipynb\" target=\"_parent\"><img src=\"https://colab.research.google.com/assets/colab-badge.svg\" alt=\"Open In Colab\"/></a>"
      ]
    },
    {
      "cell_type": "code",
      "metadata": {
        "id": "nrB4QXeqFKfX"
      },
      "source": [
        "import numpy as np\n",
        "%tensorflow_version 2.x\n",
        "import tensorflow as tf\n",
        "import matplotlib.pyplot as plt\n",
        "import tensorflow_datasets as tfds"
      ],
      "execution_count": 194,
      "outputs": []
    },
    {
      "cell_type": "code",
      "metadata": {
        "id": "rop1UlQdGvAD"
      },
      "source": [
        "# Load dataset, split into test and training data\n",
        "train_ds, test_ds = tfds.load('cifar10', split= ['train', 'test'], as_supervised=True)"
      ],
      "execution_count": 195,
      "outputs": []
    },
    {
      "cell_type": "code",
      "metadata": {
        "id": "zOzstHxLG0er"
      },
      "source": [
        "def overview_data():\n",
        "  train_ds_numpy = tfds.as_numpy(train_ds)\n",
        "  test_ds_numpy = tfds.as_numpy(test_ds)\n",
        "\n",
        "  #Look at shapes images and labels of dataset\n",
        "  print(len(train_ds))\n",
        "  print(len(test_ds))\n",
        "\n",
        "  x = 0\n",
        "  for i in train_ds_numpy:\n",
        "    x += 1\n",
        "    print(format(i[0].shape))\n",
        "    print(np.amax(i[0]))\n",
        "    print(np.amin(i[0]))\n",
        "    print(format(i[1]))\n",
        "    if x== 5:\n",
        "      break\n",
        "\n",
        "  x = 0\n",
        "  for i in test_ds_numpy:\n",
        "    x += 1\n",
        "    print(format(i[0].shape))\n",
        "    print(np.amax(i[0]))\n",
        "    print(np.amin(i[0]))\n",
        "    print(format(i[1]))\n",
        "    if x== 5:\n",
        "      break"
      ],
      "execution_count": 196,
      "outputs": []
    },
    {
      "cell_type": "code",
      "metadata": {
        "id": "v1na00mwrgEs"
      },
      "source": [
        "def plot_data():\r\n",
        "  train_ds_numpy = tfds.as_numpy(train_ds)\r\n",
        "  test_ds_numpy = tfds.as_numpy(test_ds)\r\n",
        "\r\n",
        "  # Plot 5 samples with their corresponding label.\r\n",
        "  fig, ax = plt.subplots(1,5)\r\n",
        "  x = 0\r\n",
        "  for j in train_ds_numpy:\r\n",
        "    \r\n",
        "    # Readout an image and the corresponding label.\r\n",
        "    img = j[0]\r\n",
        "\r\n",
        "    label = {\r\n",
        "        0 : 'airplane',\r\n",
        "        1 : 'automobile',\r\n",
        "        2 : 'bird',\r\n",
        "        3 : 'cat',\r\n",
        "        4 : 'deer',\r\n",
        "        5 : 'dog',\r\n",
        "        6 : 'frog',\r\n",
        "        7 : 'horse',\r\n",
        "        8 : 'ship',\r\n",
        "        9 : 'truck'\r\n",
        "    }\r\n",
        "    # if label is still just an integer\r\n",
        "    if isinstance(j[1], np.int64)  :\r\n",
        "      lbl = label[j[1]]\r\n",
        "    # if label is already an one-hot vektor\r\n",
        "    else:\r\n",
        "      indice = np.where(j[1] == 1)\r\n",
        "      indice = indice[0]\r\n",
        "      lbl = label[int(indice)]\r\n",
        "\r\n",
        "    ax[x].imshow(img)\r\n",
        "    ax[x].set_title(lbl)\r\n",
        "    ax[x].axis(\"off\")\r\n",
        "\r\n",
        "    x += 1\r\n",
        "\r\n",
        "    if x==5:\r\n",
        "      break"
      ],
      "execution_count": 197,
      "outputs": []
    },
    {
      "cell_type": "code",
      "metadata": {
        "colab": {
          "base_uri": "https://localhost:8080/",
          "height": 833
        },
        "id": "tWnmFS2zrjkR",
        "outputId": "4aaaeed7-f0a9-4ac3-e031-8aab7d770fa8"
      },
      "source": [
        "overview_data()\r\n",
        "plot_data()"
      ],
      "execution_count": 198,
      "outputs": [
        {
          "output_type": "stream",
          "text": [
            "50000\n",
            "10000\n",
            "(32, 32, 3)\n",
            "249\n",
            "0\n",
            "7\n",
            "(32, 32, 3)\n",
            "249\n",
            "5\n",
            "8\n",
            "(32, 32, 3)\n",
            "172\n",
            "54\n",
            "4\n",
            "(32, 32, 3)\n",
            "247\n",
            "10\n",
            "4\n",
            "(32, 32, 3)\n",
            "209\n",
            "8\n",
            "6\n",
            "(32, 32, 3)\n",
            "255\n",
            "5\n",
            "7\n",
            "(32, 32, 3)\n",
            "255\n",
            "0\n",
            "0\n",
            "(32, 32, 3)\n",
            "225\n",
            "6\n",
            "6\n",
            "(32, 32, 3)\n",
            "255\n",
            "58\n",
            "9\n",
            "(32, 32, 3)\n",
            "246\n",
            "0\n",
            "5\n"
          ],
          "name": "stdout"
        },
        {
          "output_type": "display_data",
          "data": {
            "image/png": "[encoded data removed]",
            "text/plain": [
              "<Figure size 432x288 with 5 Axes>"
            ]
          },
          "metadata": {
            "tags": [],
            "needs_background": "light"
          }
        }
      ]
    },
    {
      "cell_type": "code",
      "metadata": {
        "id": "eWdEkIdTHhsq"
      },
      "source": [
        "#Build input pipeline\n",
        "train_ds = train_ds.map(lambda image, label: (tf.image.per_image_standardization(tf.cast(image, tf.float32)), tf.reshape(tf.one_hot(label, 10), (-1,))))\n",
        "test_ds = test_ds.map(lambda image, label: (tf.image.per_image_standardization(tf.cast(image, tf.float32)), tf.reshape(tf.one_hot(label, 10), (-1,))))\n",
        "#(image/255)*2 -1 "
      ],
      "execution_count": 199,
      "outputs": []
    },
    {
      "cell_type": "code",
      "metadata": {
        "colab": {
          "base_uri": "https://localhost:8080/",
          "height": 920
        },
        "id": "ljB6Ppk4rsnd",
        "outputId": "1dcf1cbd-fa6a-4948-83f4-69b0abda6b67"
      },
      "source": [
        "overview_data()\r\n",
        "plot_data()"
      ],
      "execution_count": 200,
      "outputs": [
        {
          "output_type": "stream",
          "text": [
            "50000\n",
            "10000\n",
            "(32, 32, 3)\n",
            "1.6242564\n",
            "-2.2864254\n",
            "[0. 0. 0. 0. 0. 0. 0. 1. 0. 0.]\n",
            "(32, 32, 3)\n",
            "2.317584\n",
            "-1.7136855\n",
            "[0. 0. 0. 0. 0. 0. 0. 0. 1. 0.]\n",
            "(32, 32, 3)\n",
            "3.1003594\n",
            "-3.4322746\n",
            "[0. 0. 0. 0. 1. 0. 0. 0. 0. 0.]\n",
            "(32, 32, 3)\n",
            "1.9314102\n",
            "-1.4442297\n",
            "[0. 0. 0. 0. 1. 0. 0. 0. 0. 0.]\n",
            "(32, 32, 3)\n",
            "3.0144625\n",
            "-1.3146421\n",
            "[0. 0. 0. 0. 0. 0. 1. 0. 0. 0.]\n"
          ],
          "name": "stdout"
        },
        {
          "output_type": "stream",
          "text": [
            "WARNING:matplotlib.image:Clipping input data to the valid range for imshow with RGB data ([0..1] for floats or [0..255] for integers).\n",
            "WARNING:matplotlib.image:Clipping input data to the valid range for imshow with RGB data ([0..1] for floats or [0..255] for integers).\n",
            "WARNING:matplotlib.image:Clipping input data to the valid range for imshow with RGB data ([0..1] for floats or [0..255] for integers).\n",
            "WARNING:matplotlib.image:Clipping input data to the valid range for imshow with RGB data ([0..1] for floats or [0..255] for integers).\n",
            "WARNING:matplotlib.image:Clipping input data to the valid range for imshow with RGB data ([0..1] for floats or [0..255] for integers).\n"
          ],
          "name": "stderr"
        },
        {
          "output_type": "stream",
          "text": [
            "(32, 32, 3)\n",
            "1.3148377\n",
            "-1.5812476\n",
            "[0. 0. 0. 0. 0. 0. 0. 1. 0. 0.]\n",
            "(32, 32, 3)\n",
            "3.6264737\n",
            "-1.5439444\n",
            "[1. 0. 0. 0. 0. 0. 0. 0. 0. 0.]\n",
            "(32, 32, 3)\n",
            "2.993287\n",
            "-2.1075056\n",
            "[0. 0. 0. 0. 0. 0. 1. 0. 0. 0.]\n",
            "(32, 32, 3)\n",
            "0.97097623\n",
            "-2.2548826\n",
            "[0. 0. 0. 0. 0. 0. 0. 0. 0. 1.]\n",
            "(32, 32, 3)\n",
            "1.5621185\n",
            "-1.38555\n",
            "[0. 0. 0. 0. 0. 1. 0. 0. 0. 0.]\n"
          ],
          "name": "stdout"
        },
        {
          "output_type": "display_data",
          "data": {
            "image/png": "[encoded data removed]",
            "text/plain": [
              "<Figure size 432x288 with 5 Axes>"
            ]
          },
          "metadata": {
            "tags": [],
            "needs_background": "light"
          }
        }
      ]
    },
    {
      "cell_type": "code",
      "metadata": {
        "id": "Lf-o4195rvWx"
      },
      "source": [
        "# batching, shuffle und prefetching\r\n",
        "train_ds = train_ds.batch(64).shuffle(buffer_size=64).prefetch(128)\r\n",
        "test_ds = test_ds.batch(64).shuffle(buffer_size=64).prefetch(128)"
      ],
      "execution_count": 201,
      "outputs": []
    },
    {
      "cell_type": "code",
      "metadata": {
        "id": "pDxBbzzaIb1v"
      },
      "source": [
        "from tensorflow.keras import Model\n",
        "from tensorflow.keras.layers import Layer\n",
        "\n",
        "#Defining a Residual Block consisting of 3 convolution/batch normalization alterations\n",
        "class ResidualBlock(Layer):\n",
        "\n",
        "    def __init__(self):\n",
        "        super(ResidualBlock, self).__init__()\n",
        "        self.batch_normalization_layer_1 = tf.keras.layers.BatchNormalization()\n",
        "        self.convolution_layer_1 = tf.keras.layers.Conv2D(filters=32,\n",
        "                                                     kernel_size=1,\n",
        "                                                     strides=(1,1),\n",
        "                                                     padding='same', \n",
        "                                                     activity_regularizer=tf.keras.regularizers.L2(0.01),                                           \n",
        "                                                     input_shape=(64,32,32,32)                                                    \n",
        "                                               )\n",
        "\n",
        "        self.batch_normalization_layer_2 = tf.keras.layers.BatchNormalization()\n",
        "        self.convolution_layer_2 = tf.keras.layers.Conv2D(filters=32,\n",
        "                                                     kernel_size=3,\n",
        "                                                     strides=(1,1),\n",
        "                                                     padding='same', \n",
        "                                                     activity_regularizer=tf.keras.regularizers.L2(0.01)                                                                                              \n",
        "                                               )\n",
        "        \n",
        "        self.batch_normalization_layer_3 = tf.keras.layers.BatchNormalization()\n",
        "        self.convolution_layer_3 = tf.keras.layers.Conv2D(filters=32,\n",
        "                                                     kernel_size=3,\n",
        "                                                     strides=(1,1),\n",
        "                                                     padding='same', \n",
        "                                                     activity_regularizer=tf.keras.regularizers.L2(0.01)                                                  \n",
        "                                               )\n",
        "        \n",
        "    def call(self, x, training = False):\n",
        "\n",
        "      input = x\n",
        "\n",
        "      # Define the forward step.\n",
        "      x = self.batch_normalization_layer_1(x, training)\n",
        "      x = self.convolution_layer_1(x)\n",
        "      x = tf.keras.activations.relu(x)\n",
        "\n",
        "      x = self.batch_normalization_layer_2(x, training)\n",
        "      x = self.convolution_layer_2(x)\n",
        "      x = tf.keras.activations.relu(x)\n",
        "\n",
        "      x = self.batch_normalization_layer_3(x, training)\n",
        "      x = self.convolution_layer_3(x)\n",
        "      x = tf.keras.activations.relu(x)\n",
        "\n",
        "      return tf.add(input, x)\n"
      ],
      "execution_count": 202,
      "outputs": []
    },
    {
      "cell_type": "code",
      "metadata": {
        "id": "WgKkV3iROIaP"
      },
      "source": [
        "#Build a Residual Layer Network\n",
        "class ResNet(Model): \n",
        "    # depth as number of iterations of residual block\n",
        "    def __init__(self, depth):\n",
        "        super(ResNet, self).__init__()\n",
        "\n",
        "        # Define the three layers.\n",
        "        self.convolution_layer_1 = tf.keras.layers.Conv2D(filters=32,\n",
        "                                                     kernel_size=3,\n",
        "                                                     strides=(1,1),\n",
        "                                                     padding='same', \n",
        "                                                     activity_regularizer=tf.keras.regularizers.L2(0.01),                                           \n",
        "                                                     input_shape=(64,32,32,3),\n",
        "                                                     activation = tf.keras.activations.relu                                                    \n",
        "                                               )\n",
        "        \n",
        "        #Iteration of ResidualBlock of length depth\n",
        "        self.residual_blocks = []\n",
        "        for i in range(depth):\n",
        "          self.residual_blocks.append(ResidualBlock())\n",
        "        #self.residual_blocks = [ResidualBlock((64,32,32,3)) for i in range(depth)]\n",
        "\n",
        "        self.global_pooling_layer = tf.keras.layers.GlobalAveragePooling2D()\n",
        "        self.output_layer = tf.keras.layers.Dense(units=10, \n",
        "                                                  activation=tf.keras.activations.softmax)\n",
        "\n",
        "    def call(self, x, training = False):\n",
        "        # Define the forward step.\n",
        "        x = self.convolution_layer_1(x)\n",
        "        for block in self.residual_blocks:\n",
        "          x = block(x, training)\n",
        "       \n",
        "        x = self.global_pooling_layer(x)\n",
        "        x = self.output_layer(x)\n",
        "\n",
        "        return x"
      ],
      "execution_count": 203,
      "outputs": []
    },
    {
      "cell_type": "code",
      "metadata": {
        "id": "g1ENLPJlRCDA"
      },
      "source": [
        "#Defining a Transitional Layer with\n",
        "class TransitionalLayer(Layer):\n",
        "\n",
        "  def __init__(self, input_shape):\n",
        "\n",
        "    super(TransitionalLayer, self).__init__()\n",
        "\n",
        "    self.convolution_layer_1= tf.keras.layers.Conv2D(filters= input_shape[-1], \n",
        "                                              kernel_size= 1,\n",
        "                                              strides=(1, 1), \n",
        "                                              padding='same',\n",
        "                                              input_shape = input_shape,\n",
        "                                              kernel_regularizer=tf.keras.regularizers.L2(0.01)\n",
        "                                              )\n",
        "    self.batch_normalization_layer_1 = tf.keras.layers.BatchNormalization()\n",
        "\n",
        "    self.pooling_layer_1 = tf.keras.layers.AveragePooling2D(pool_size=(1,1))\n",
        "    \n",
        "    \n",
        "\n",
        "  def call(self, x, training = False):\n",
        "\n",
        "    #Define a forward step\n",
        "    x = self.convolution_layer_1(x)\n",
        "    x = self.batch_normalization_layer_1(x)\n",
        "    x = tf.keras.activations.relu(x)\n",
        "    x = self.pooling_layer_1(x)\n",
        "    \n",
        "    return x"
      ],
      "execution_count": 204,
      "outputs": []
    },
    {
      "cell_type": "code",
      "metadata": {
        "id": "DvS797M6TzT2"
      },
      "source": [
        "#Building a Dense Block with overhanded iterations of Blocks\n",
        "class DenseBlock(Layer):\n",
        "  \n",
        "  def __init__(self, input_shape, block_number = 3):\n",
        "    super(DenseBlock, self).__init__()\n",
        "\n",
        "    self.layers = []\n",
        "    for i in range(block_number):\n",
        "      self.layers.append(Block(input_shape))\n",
        "    \n",
        "  def call(self, x, training = False):\n",
        "    \n",
        "    input = x\n",
        "    for block in self.layers:\n",
        "      x = block(x, training)\n",
        "    x = tf.keras.layers.concatenate([input, x], axis=-1)\n",
        "      \n",
        "    return x"
      ],
      "execution_count": 205,
      "outputs": []
    },
    {
      "cell_type": "code",
      "metadata": {
        "id": "veHnZUZSS4Wb"
      },
      "source": [
        "#Defining a Block with 1 convolutional layer and batch normalization \n",
        "class Block(Layer):\n",
        "  def __init__(self, input_shape):\n",
        "    super(Block, self).__init__()\n",
        "\n",
        "    self.convolution_layer_1 = tf.keras.layers.Conv2D(filters= input_shape[-1], \n",
        "                                       kernel_size= 3,\n",
        "                                       strides=(1, 1), \n",
        "                                       padding='same',\n",
        "                                       input_shape = input_shape,\n",
        "                                       kernel_regularizer=tf.keras.regularizers.L2(0.01)\n",
        "                                        )\n",
        "    self.batch_normalization_layer_1 = tf.keras.layers.BatchNormalization()\n",
        "\n",
        "    \n",
        "  def call(self, x, training = False):\n",
        "    input = x\n",
        "    x = self.convolution_layer_1(x)\n",
        "    x = self.batch_normalization_layer_1(x, training)\n",
        "    x = tf.keras.activations.relu(x)\n",
        "\n",
        "    return x"
      ],
      "execution_count": 206,
      "outputs": []
    },
    {
      "cell_type": "code",
      "metadata": {
        "id": "zQmrQK7AWH8m"
      },
      "source": [
        "#Build Dense Network\n",
        "class DenseNet(Model): \n",
        "    \n",
        "    def __init__(self, denseblock_number = 3):\n",
        "        super(DenseNet, self).__init__()\n",
        "\n",
        "        # Define the three layers.\n",
        "        self.convolutional_layer_1 = tf.keras.layers.Conv2D(filters= 32, \n",
        "                                                            kernel_size= 3,\n",
        "                                                            strides=(1, 1), \n",
        "                                                            padding='same',\n",
        "                                                            kernel_regularizer=tf.keras.regularizers.L2(0.01), \n",
        "                                                            activation = tf.keras.activations.relu,\n",
        "                                                            input_shape = (64,32,32,3)\n",
        "                                                            )\n",
        "        \n",
        "        self.list_of_alterations =[]\n",
        "        for i in range(denseblock_number):\n",
        "          self.list_of_alterations.append(DenseBlock((64,32,32,32), denseblock_number))\n",
        "\n",
        "          self.list_of_alterations.append(TransitionalLayer((64,32,32,32)))\n",
        "\n",
        "        self.batch_normalization_layer_1 = tf.keras.layers.BatchNormalization()\n",
        "        self.global_pooling_layer = tf.keras.layers.GlobalAveragePooling2D()\n",
        "        self.output_layer = tf.keras.layers.Dense(units=10, \n",
        "                                                  activation=tf.keras.activations.softmax)\n",
        "\n",
        "    def call(self, x, training = False):\n",
        "\n",
        "        # Define the forward step.\n",
        "        x = self.convolutional_layer_1(x)\n",
        "\n",
        "        #Delete last Transition Layer from List of functions to be executed\n",
        "        del self.list_of_alterations[-1]\n",
        "        for function in self.list_of_alterations:\n",
        "          x = function(x, training)\n",
        "        x = self.batch_normalization_layer_1(x, training)\n",
        "        x = self.global_pooling_layer(x)\n",
        "        x = self.output_layer(x)\n",
        "\n",
        "        return x"
      ],
      "execution_count": 207,
      "outputs": []
    },
    {
      "cell_type": "code",
      "metadata": {
        "id": "x0b5l5FtZleB"
      },
      "source": [
        "#Pass on (number of convolution blocks in your dense blocks * growth rate on as the number of\n",
        "#channels parameters to your Transition Layer\n",
        "\n",
        "#filter of output match channels of input"
      ],
      "execution_count": 208,
      "outputs": []
    },
    {
      "cell_type": "code",
      "metadata": {
        "id": "uGGNlEjtawoR"
      },
      "source": [
        "def train_step(model, input, target, loss_function, optimizer):\n",
        "  # loss_object and optimizer_object are instances of respective tensorflow classes\n",
        "  with tf.GradientTape() as tape:\n",
        "    prediction = model(input, training=True)\n",
        "    loss = loss_function(target, prediction) \n",
        "    gradients = tape.gradient(loss, model.trainable_variables)\n",
        "  optimizer.apply_gradients(zip(gradients, model.trainable_variables))\n",
        "  return loss \n",
        "\n",
        "def test(model, test_data, loss_function, training=False):\n",
        "  # test over complete test data\n",
        "  test_accuracy_aggregator = []\n",
        "  test_loss_aggregator = []\n",
        "\n",
        "  for (input, target) in test_data:\n",
        "    prediction = model(input, training)\n",
        "    sample_test_loss = loss_function(target, prediction) \n",
        "    sample_test_accuracy =  np.argmax(target, axis=1) == np.argmax(prediction, axis=1)\n",
        "    sample_test_accuracy = np.mean(sample_test_accuracy)\n",
        "    test_loss_aggregator.append(sample_test_loss.numpy())\n",
        "    test_accuracy_aggregator.append(np.mean(sample_test_accuracy))\n",
        "\n",
        "  test_loss = np.mean(test_loss_aggregator)\n",
        "  test_accuracy = np.mean(test_accuracy_aggregator)\n",
        "\n",
        "  return test_loss, test_accuracy"
      ],
      "execution_count": 209,
      "outputs": []
    },
    {
      "cell_type": "code",
      "metadata": {
        "id": "ZEFfAFrzaxCs"
      },
      "source": [
        "# tf.keras.backend.clear_session()\n",
        "\n",
        "# ### Hyperparameters\n",
        "# num_epochs = 30\n",
        "# learning_rate = tf.optimizers.schedules.ExponentialDecay(0.001, 5000, 0.97, staircase=True)\n",
        "# running_average_factor = 0.95\n",
        "\n",
        "# # Initialize the ResNet model.\n",
        "# model = ResNet(depth=3)\n",
        "# # Initialize the loss: categorical cross entropy. Check out 'tf.keras.losses'.\n",
        "# cross_entropy_loss = tf.keras.losses.CategoricalCrossentropy()\n",
        "# # Initialize the optimizer: Adam with default parameters. Check out 'tf.keras.optimizers'\n",
        "# optimizer = tf.keras.optimizers.Adam(learning_rate)\n",
        "\n",
        "# # Initialize lists for later visualization.\n",
        "# train_losses = []\n",
        "\n",
        "# test_losses = []\n",
        "# test_accuracies = []\n",
        "\n",
        "# #testing once before we begin\n",
        "# test_loss, test_accuracy = test(model, test_ds, cross_entropy_loss)\n",
        "# test_losses.append(test_loss)\n",
        "# test_accuracies.append(test_accuracy)\n",
        "\n",
        "# #check how model performs on train data once before we begin\n",
        "# train_loss, _ = test(model, train_ds, cross_entropy_loss)\n",
        "# train_losses.append(train_loss)\n",
        "\n",
        "# # We train for num_epochs epochs.\n",
        "# for epoch in range(num_epochs):\n",
        "#     print('Epoch: __ ' + str(epoch))\n",
        "\n",
        "#     train_ds = train_ds.shuffle(buffer_size=128)\n",
        "#     test_ds = test_ds.shuffle(buffer_size=128)\n",
        "\n",
        "#     #training (and checking in with training)\n",
        "#     running_average = 0\n",
        "#     for (input,target) in train_ds:\n",
        "#         train_loss = train_step(model, input, target, cross_entropy_loss, optimizer)\n",
        "#         running_average = running_average_factor * running_average  + (1 - running_average_factor) * train_loss\n",
        "#     train_losses.append(running_average)\n",
        "\n",
        "#     #testing\n",
        "#     test_loss, test_accuracy = test(model, test_ds, cross_entropy_loss)\n",
        "#     test_losses.append(test_loss)\n",
        "#     test_accuracies.append(test_accuracy)\n",
        "\n",
        "#     #Print accuracy\n",
        "#     print(test_accuracies[-1])\n",
        "\n",
        "#     # Visualize accuracy and loss for training and test data. \n",
        "#     # One plot training and test loss.\n",
        "#     # One plot training and test accuracy.\n",
        "#     plt.figure()\n",
        "#     line1, = plt.plot(train_losses)\n",
        "#     line2, = plt.plot(test_losses)\n",
        "#     plt.xlabel(\"Training steps\")\n",
        "#     plt.ylabel(\"Loss\")\n",
        "#     plt.legend((line1,line2),(\"training\",\"test\"))\n",
        "#     plt.show()\n",
        "\n",
        "#     plt.figure()\n",
        "#     line1, = plt.plot(test_accuracies)\n",
        "#     plt.xlabel(\"Training steps\")\n",
        "#     plt.ylabel(\"Accuracy\")\n",
        "#     plt.show()"
      ],
      "execution_count": 210,
      "outputs": []
    },
    {
      "cell_type": "code",
      "metadata": {
        "id": "2_5FZiq6oJlI"
      },
      "source": [
        "# #Save model\r\n",
        "# model.save_weights('cifar10_ResNet')"
      ],
      "execution_count": 211,
      "outputs": []
    },
    {
      "cell_type": "code",
      "metadata": {
        "id": "UxsQFV4Ma1CD",
        "colab": {
          "base_uri": "https://localhost:8080/",
          "height": 1000
        },
        "outputId": "49190323-af83-4a25-ee60-729c27a57d43"
      },
      "source": [
        "tf.keras.backend.clear_session()\r\n",
        "\r\n",
        "### Hyperparameters\r\n",
        "num_epochs = 30\r\n",
        "learning_rate = tf.optimizers.schedules.ExponentialDecay(0.001, 5000, 0.97, staircase=True)\r\n",
        "running_average_factor = 0.95\r\n",
        "\r\n",
        "# Initialize the ResNet model.\r\n",
        "model = DenseNet(denseblock_number=3)\r\n",
        "# Initialize the loss: categorical cross entropy. Check out 'tf.keras.losses'.\r\n",
        "cross_entropy_loss = tf.keras.losses.CategoricalCrossentropy()\r\n",
        "# Initialize the optimizer: Adam with default parameters. Check out 'tf.keras.optimizers'\r\n",
        "optimizer = tf.keras.optimizers.Adam(learning_rate)\r\n",
        "\r\n",
        "# Initialize lists for later visualization.\r\n",
        "train_losses = []\r\n",
        "\r\n",
        "test_losses = []\r\n",
        "test_accuracies = []\r\n",
        "\r\n",
        "#testing once before we begin\r\n",
        "test_loss, test_accuracy = test(model, test_ds, cross_entropy_loss)\r\n",
        "test_losses.append(test_loss)\r\n",
        "test_accuracies.append(test_accuracy)\r\n",
        "\r\n",
        "#check how model performs on train data once before we begin\r\n",
        "train_loss, _ = test(model, train_ds, cross_entropy_loss)\r\n",
        "train_losses.append(train_loss)\r\n",
        "\r\n",
        "# We train for num_epochs epochs.\r\n",
        "for epoch in range(num_epochs):\r\n",
        "    print('Epoch: __ ' + str(epoch))\r\n",
        "\r\n",
        "    train_ds = train_ds.shuffle(buffer_size=128)\r\n",
        "    test_ds = test_ds.shuffle(buffer_size=128)\r\n",
        "\r\n",
        "    #training (and checking in with training)\r\n",
        "    running_average = 0\r\n",
        "    for (input,target) in train_ds:\r\n",
        "        train_loss = train_step(model, input, target, cross_entropy_loss, optimizer)\r\n",
        "        running_average = running_average_factor * running_average  + (1 - running_average_factor) * train_loss\r\n",
        "    train_losses.append(running_average)\r\n",
        "\r\n",
        "    #testing\r\n",
        "    test_loss, test_accuracy = test(model, test_ds, cross_entropy_loss)\r\n",
        "    test_losses.append(test_loss)\r\n",
        "    test_accuracies.append(test_accuracy)\r\n",
        "\r\n",
        "    #Print accuracy\r\n",
        "    print(test_accuracies[-1])\r\n",
        "\r\n",
        "    # Visualize accuracy and loss for training and test data. \r\n",
        "    # One plot training and test loss.\r\n",
        "    # One plot training and test accuracy.\r\n",
        "    plt.figure()\r\n",
        "    line1, = plt.plot(train_losses)\r\n",
        "    line2, = plt.plot(test_losses)\r\n",
        "    plt.xlabel(\"Training steps\")\r\n",
        "    plt.ylabel(\"Loss\")\r\n",
        "    plt.legend((line1,line2),(\"training\",\"test\"))\r\n",
        "    plt.show()\r\n",
        "\r\n",
        "    plt.figure()\r\n",
        "    line1, = plt.plot(test_accuracies)\r\n",
        "    plt.xlabel(\"Training steps\")\r\n",
        "    plt.ylabel(\"Accuracy\")\r\n",
        "    plt.show()"
      ],
      "execution_count": 212,
      "outputs": [
        {
          "output_type": "error",
          "ename": "InvalidArgumentError",
          "evalue": "ignored",
          "traceback": [
            "\u001b[0;31m---------------------------------------------------------------------------\u001b[0m",
            "\u001b[0;31mInvalidArgumentError\u001b[0m                      Traceback (most recent call last)",
            "\u001b[0;32m<ipython-input-212-97baf0b774e1>\u001b[0m in \u001b[0;36m<module>\u001b[0;34m()\u001b[0m\n\u001b[1;32m     20\u001b[0m \u001b[0;34m\u001b[0m\u001b[0m\n\u001b[1;32m     21\u001b[0m \u001b[0;31m#testing once before we begin\u001b[0m\u001b[0;34m\u001b[0m\u001b[0;34m\u001b[0m\u001b[0;34m\u001b[0m\u001b[0m\n\u001b[0;32m---> 22\u001b[0;31m \u001b[0mtest_loss\u001b[0m\u001b[0;34m,\u001b[0m \u001b[0mtest_accuracy\u001b[0m \u001b[0;34m=\u001b[0m \u001b[0mtest\u001b[0m\u001b[0;34m(\u001b[0m\u001b[0mmodel\u001b[0m\u001b[0;34m,\u001b[0m \u001b[0mtest_ds\u001b[0m\u001b[0;34m,\u001b[0m \u001b[0mcross_entropy_loss\u001b[0m\u001b[0;34m)\u001b[0m\u001b[0;34m\u001b[0m\u001b[0;34m\u001b[0m\u001b[0m\n\u001b[0m\u001b[1;32m     23\u001b[0m \u001b[0mtest_losses\u001b[0m\u001b[0;34m.\u001b[0m\u001b[0mappend\u001b[0m\u001b[0;34m(\u001b[0m\u001b[0mtest_loss\u001b[0m\u001b[0;34m)\u001b[0m\u001b[0;34m\u001b[0m\u001b[0;34m\u001b[0m\u001b[0m\n\u001b[1;32m     24\u001b[0m \u001b[0mtest_accuracies\u001b[0m\u001b[0;34m.\u001b[0m\u001b[0mappend\u001b[0m\u001b[0;34m(\u001b[0m\u001b[0mtest_accuracy\u001b[0m\u001b[0;34m)\u001b[0m\u001b[0;34m\u001b[0m\u001b[0;34m\u001b[0m\u001b[0m\n",
            "\u001b[0;32m<ipython-input-209-4c378101907a>\u001b[0m in \u001b[0;36mtest\u001b[0;34m(model, test_data, loss_function, training)\u001b[0m\n\u001b[1;32m     14\u001b[0m \u001b[0;34m\u001b[0m\u001b[0m\n\u001b[1;32m     15\u001b[0m   \u001b[0;32mfor\u001b[0m \u001b[0;34m(\u001b[0m\u001b[0minput\u001b[0m\u001b[0;34m,\u001b[0m \u001b[0mtarget\u001b[0m\u001b[0;34m)\u001b[0m \u001b[0;32min\u001b[0m \u001b[0mtest_data\u001b[0m\u001b[0;34m:\u001b[0m\u001b[0;34m\u001b[0m\u001b[0;34m\u001b[0m\u001b[0m\n\u001b[0;32m---> 16\u001b[0;31m     \u001b[0mprediction\u001b[0m \u001b[0;34m=\u001b[0m \u001b[0mmodel\u001b[0m\u001b[0;34m(\u001b[0m\u001b[0minput\u001b[0m\u001b[0;34m,\u001b[0m \u001b[0mtraining\u001b[0m\u001b[0;34m)\u001b[0m\u001b[0;34m\u001b[0m\u001b[0;34m\u001b[0m\u001b[0m\n\u001b[0m\u001b[1;32m     17\u001b[0m     \u001b[0msample_test_loss\u001b[0m \u001b[0;34m=\u001b[0m \u001b[0mloss_function\u001b[0m\u001b[0;34m(\u001b[0m\u001b[0mtarget\u001b[0m\u001b[0;34m,\u001b[0m \u001b[0mprediction\u001b[0m\u001b[0;34m)\u001b[0m\u001b[0;34m\u001b[0m\u001b[0;34m\u001b[0m\u001b[0m\n\u001b[1;32m     18\u001b[0m     \u001b[0msample_test_accuracy\u001b[0m \u001b[0;34m=\u001b[0m  \u001b[0mnp\u001b[0m\u001b[0;34m.\u001b[0m\u001b[0margmax\u001b[0m\u001b[0;34m(\u001b[0m\u001b[0mtarget\u001b[0m\u001b[0;34m,\u001b[0m \u001b[0maxis\u001b[0m\u001b[0;34m=\u001b[0m\u001b[0;36m1\u001b[0m\u001b[0;34m)\u001b[0m \u001b[0;34m==\u001b[0m \u001b[0mnp\u001b[0m\u001b[0;34m.\u001b[0m\u001b[0margmax\u001b[0m\u001b[0;34m(\u001b[0m\u001b[0mprediction\u001b[0m\u001b[0;34m,\u001b[0m \u001b[0maxis\u001b[0m\u001b[0;34m=\u001b[0m\u001b[0;36m1\u001b[0m\u001b[0;34m)\u001b[0m\u001b[0;34m\u001b[0m\u001b[0;34m\u001b[0m\u001b[0m\n",
            "\u001b[0;32m/usr/local/lib/python3.6/dist-packages/tensorflow/python/keras/engine/base_layer.py\u001b[0m in \u001b[0;36m__call__\u001b[0;34m(self, *args, **kwargs)\u001b[0m\n\u001b[1;32m    983\u001b[0m \u001b[0;34m\u001b[0m\u001b[0m\n\u001b[1;32m    984\u001b[0m         \u001b[0;32mwith\u001b[0m \u001b[0mops\u001b[0m\u001b[0;34m.\u001b[0m\u001b[0menable_auto_cast_variables\u001b[0m\u001b[0;34m(\u001b[0m\u001b[0mself\u001b[0m\u001b[0;34m.\u001b[0m\u001b[0m_compute_dtype_object\u001b[0m\u001b[0;34m)\u001b[0m\u001b[0;34m:\u001b[0m\u001b[0;34m\u001b[0m\u001b[0;34m\u001b[0m\u001b[0m\n\u001b[0;32m--> 985\u001b[0;31m           \u001b[0moutputs\u001b[0m \u001b[0;34m=\u001b[0m \u001b[0mcall_fn\u001b[0m\u001b[0;34m(\u001b[0m\u001b[0minputs\u001b[0m\u001b[0;34m,\u001b[0m \u001b[0;34m*\u001b[0m\u001b[0margs\u001b[0m\u001b[0;34m,\u001b[0m \u001b[0;34m**\u001b[0m\u001b[0mkwargs\u001b[0m\u001b[0;34m)\u001b[0m\u001b[0;34m\u001b[0m\u001b[0;34m\u001b[0m\u001b[0m\n\u001b[0m\u001b[1;32m    986\u001b[0m \u001b[0;34m\u001b[0m\u001b[0m\n\u001b[1;32m    987\u001b[0m         \u001b[0;32mif\u001b[0m \u001b[0mself\u001b[0m\u001b[0;34m.\u001b[0m\u001b[0m_activity_regularizer\u001b[0m\u001b[0;34m:\u001b[0m\u001b[0;34m\u001b[0m\u001b[0;34m\u001b[0m\u001b[0m\n",
            "\u001b[0;32m<ipython-input-207-25ab3699508f>\u001b[0m in \u001b[0;36mcall\u001b[0;34m(self, x, training)\u001b[0m\n\u001b[1;32m     36\u001b[0m         \u001b[0mx\u001b[0m \u001b[0;34m=\u001b[0m \u001b[0mself\u001b[0m\u001b[0;34m.\u001b[0m\u001b[0mbatch_normalization_layer_1\u001b[0m\u001b[0;34m(\u001b[0m\u001b[0mx\u001b[0m\u001b[0;34m,\u001b[0m \u001b[0mtraining\u001b[0m\u001b[0;34m)\u001b[0m\u001b[0;34m\u001b[0m\u001b[0;34m\u001b[0m\u001b[0m\n\u001b[1;32m     37\u001b[0m         \u001b[0mx\u001b[0m \u001b[0;34m=\u001b[0m \u001b[0mself\u001b[0m\u001b[0;34m.\u001b[0m\u001b[0mglobal_pooling_layer\u001b[0m\u001b[0;34m(\u001b[0m\u001b[0mx\u001b[0m\u001b[0;34m)\u001b[0m\u001b[0;34m\u001b[0m\u001b[0;34m\u001b[0m\u001b[0m\n\u001b[0;32m---> 38\u001b[0;31m         \u001b[0mx\u001b[0m \u001b[0;34m=\u001b[0m \u001b[0mself\u001b[0m\u001b[0;34m.\u001b[0m\u001b[0moutput_layer\u001b[0m\u001b[0;34m(\u001b[0m\u001b[0mx\u001b[0m\u001b[0;34m)\u001b[0m\u001b[0;34m\u001b[0m\u001b[0;34m\u001b[0m\u001b[0m\n\u001b[0m\u001b[1;32m     39\u001b[0m \u001b[0;34m\u001b[0m\u001b[0m\n\u001b[1;32m     40\u001b[0m         \u001b[0;32mreturn\u001b[0m \u001b[0mx\u001b[0m\u001b[0;34m\u001b[0m\u001b[0;34m\u001b[0m\u001b[0m\n",
            "\u001b[0;32m/usr/local/lib/python3.6/dist-packages/tensorflow/python/keras/engine/base_layer.py\u001b[0m in \u001b[0;36m__call__\u001b[0;34m(self, *args, **kwargs)\u001b[0m\n\u001b[1;32m    983\u001b[0m \u001b[0;34m\u001b[0m\u001b[0m\n\u001b[1;32m    984\u001b[0m         \u001b[0;32mwith\u001b[0m \u001b[0mops\u001b[0m\u001b[0;34m.\u001b[0m\u001b[0menable_auto_cast_variables\u001b[0m\u001b[0;34m(\u001b[0m\u001b[0mself\u001b[0m\u001b[0;34m.\u001b[0m\u001b[0m_compute_dtype_object\u001b[0m\u001b[0;34m)\u001b[0m\u001b[0;34m:\u001b[0m\u001b[0;34m\u001b[0m\u001b[0;34m\u001b[0m\u001b[0m\n\u001b[0;32m--> 985\u001b[0;31m           \u001b[0moutputs\u001b[0m \u001b[0;34m=\u001b[0m \u001b[0mcall_fn\u001b[0m\u001b[0;34m(\u001b[0m\u001b[0minputs\u001b[0m\u001b[0;34m,\u001b[0m \u001b[0;34m*\u001b[0m\u001b[0margs\u001b[0m\u001b[0;34m,\u001b[0m \u001b[0;34m**\u001b[0m\u001b[0mkwargs\u001b[0m\u001b[0;34m)\u001b[0m\u001b[0;34m\u001b[0m\u001b[0;34m\u001b[0m\u001b[0m\n\u001b[0m\u001b[1;32m    986\u001b[0m \u001b[0;34m\u001b[0m\u001b[0m\n\u001b[1;32m    987\u001b[0m         \u001b[0;32mif\u001b[0m \u001b[0mself\u001b[0m\u001b[0;34m.\u001b[0m\u001b[0m_activity_regularizer\u001b[0m\u001b[0;34m:\u001b[0m\u001b[0;34m\u001b[0m\u001b[0;34m\u001b[0m\u001b[0m\n",
            "\u001b[0;32m/usr/local/lib/python3.6/dist-packages/tensorflow/python/keras/layers/core.py\u001b[0m in \u001b[0;36mcall\u001b[0;34m(self, inputs)\u001b[0m\n\u001b[1;32m   1196\u001b[0m         \u001b[0mself\u001b[0m\u001b[0;34m.\u001b[0m\u001b[0mbias\u001b[0m\u001b[0;34m,\u001b[0m\u001b[0;34m\u001b[0m\u001b[0;34m\u001b[0m\u001b[0m\n\u001b[1;32m   1197\u001b[0m         \u001b[0mself\u001b[0m\u001b[0;34m.\u001b[0m\u001b[0mactivation\u001b[0m\u001b[0;34m,\u001b[0m\u001b[0;34m\u001b[0m\u001b[0;34m\u001b[0m\u001b[0m\n\u001b[0;32m-> 1198\u001b[0;31m         dtype=self._compute_dtype_object)\n\u001b[0m\u001b[1;32m   1199\u001b[0m \u001b[0;34m\u001b[0m\u001b[0m\n\u001b[1;32m   1200\u001b[0m   \u001b[0;32mdef\u001b[0m \u001b[0mcompute_output_shape\u001b[0m\u001b[0;34m(\u001b[0m\u001b[0mself\u001b[0m\u001b[0;34m,\u001b[0m \u001b[0minput_shape\u001b[0m\u001b[0;34m)\u001b[0m\u001b[0;34m:\u001b[0m\u001b[0;34m\u001b[0m\u001b[0;34m\u001b[0m\u001b[0m\n",
            "\u001b[0;32m/usr/local/lib/python3.6/dist-packages/tensorflow/python/keras/layers/ops/core.py\u001b[0m in \u001b[0;36mdense\u001b[0;34m(inputs, kernel, bias, activation, dtype)\u001b[0m\n\u001b[1;32m     51\u001b[0m       \u001b[0moutputs\u001b[0m \u001b[0;34m=\u001b[0m \u001b[0msparse_ops\u001b[0m\u001b[0;34m.\u001b[0m\u001b[0msparse_tensor_dense_matmul\u001b[0m\u001b[0;34m(\u001b[0m\u001b[0minputs\u001b[0m\u001b[0;34m,\u001b[0m \u001b[0mkernel\u001b[0m\u001b[0;34m)\u001b[0m\u001b[0;34m\u001b[0m\u001b[0;34m\u001b[0m\u001b[0m\n\u001b[1;32m     52\u001b[0m     \u001b[0;32melse\u001b[0m\u001b[0;34m:\u001b[0m\u001b[0;34m\u001b[0m\u001b[0;34m\u001b[0m\u001b[0m\n\u001b[0;32m---> 53\u001b[0;31m       \u001b[0moutputs\u001b[0m \u001b[0;34m=\u001b[0m \u001b[0mgen_math_ops\u001b[0m\u001b[0;34m.\u001b[0m\u001b[0mmat_mul\u001b[0m\u001b[0;34m(\u001b[0m\u001b[0minputs\u001b[0m\u001b[0;34m,\u001b[0m \u001b[0mkernel\u001b[0m\u001b[0;34m)\u001b[0m\u001b[0;34m\u001b[0m\u001b[0;34m\u001b[0m\u001b[0m\n\u001b[0m\u001b[1;32m     54\u001b[0m   \u001b[0;31m# Broadcast kernel to inputs.\u001b[0m\u001b[0;34m\u001b[0m\u001b[0;34m\u001b[0m\u001b[0;34m\u001b[0m\u001b[0m\n\u001b[1;32m     55\u001b[0m   \u001b[0;32melse\u001b[0m\u001b[0;34m:\u001b[0m\u001b[0;34m\u001b[0m\u001b[0;34m\u001b[0m\u001b[0m\n",
            "\u001b[0;32m/usr/local/lib/python3.6/dist-packages/tensorflow/python/ops/gen_math_ops.py\u001b[0m in \u001b[0;36mmat_mul\u001b[0;34m(a, b, transpose_a, transpose_b, name)\u001b[0m\n\u001b[1;32m   5622\u001b[0m       \u001b[0;32mreturn\u001b[0m \u001b[0m_result\u001b[0m\u001b[0;34m\u001b[0m\u001b[0;34m\u001b[0m\u001b[0m\n\u001b[1;32m   5623\u001b[0m     \u001b[0;32mexcept\u001b[0m \u001b[0m_core\u001b[0m\u001b[0;34m.\u001b[0m\u001b[0m_NotOkStatusException\u001b[0m \u001b[0;32mas\u001b[0m \u001b[0me\u001b[0m\u001b[0;34m:\u001b[0m\u001b[0;34m\u001b[0m\u001b[0;34m\u001b[0m\u001b[0m\n\u001b[0;32m-> 5624\u001b[0;31m       \u001b[0m_ops\u001b[0m\u001b[0;34m.\u001b[0m\u001b[0mraise_from_not_ok_status\u001b[0m\u001b[0;34m(\u001b[0m\u001b[0me\u001b[0m\u001b[0;34m,\u001b[0m \u001b[0mname\u001b[0m\u001b[0;34m)\u001b[0m\u001b[0;34m\u001b[0m\u001b[0;34m\u001b[0m\u001b[0m\n\u001b[0m\u001b[1;32m   5625\u001b[0m     \u001b[0;32mexcept\u001b[0m \u001b[0m_core\u001b[0m\u001b[0;34m.\u001b[0m\u001b[0m_FallbackException\u001b[0m\u001b[0;34m:\u001b[0m\u001b[0;34m\u001b[0m\u001b[0;34m\u001b[0m\u001b[0m\n\u001b[1;32m   5626\u001b[0m       \u001b[0;32mpass\u001b[0m\u001b[0;34m\u001b[0m\u001b[0;34m\u001b[0m\u001b[0m\n",
            "\u001b[0;32m/usr/local/lib/python3.6/dist-packages/tensorflow/python/framework/ops.py\u001b[0m in \u001b[0;36mraise_from_not_ok_status\u001b[0;34m(e, name)\u001b[0m\n\u001b[1;32m   6841\u001b[0m   \u001b[0mmessage\u001b[0m \u001b[0;34m=\u001b[0m \u001b[0me\u001b[0m\u001b[0;34m.\u001b[0m\u001b[0mmessage\u001b[0m \u001b[0;34m+\u001b[0m \u001b[0;34m(\u001b[0m\u001b[0;34m\" name: \"\u001b[0m \u001b[0;34m+\u001b[0m \u001b[0mname\u001b[0m \u001b[0;32mif\u001b[0m \u001b[0mname\u001b[0m \u001b[0;32mis\u001b[0m \u001b[0;32mnot\u001b[0m \u001b[0;32mNone\u001b[0m \u001b[0;32melse\u001b[0m \u001b[0;34m\"\"\u001b[0m\u001b[0;34m)\u001b[0m\u001b[0;34m\u001b[0m\u001b[0;34m\u001b[0m\u001b[0m\n\u001b[1;32m   6842\u001b[0m   \u001b[0;31m# pylint: disable=protected-access\u001b[0m\u001b[0;34m\u001b[0m\u001b[0;34m\u001b[0m\u001b[0;34m\u001b[0m\u001b[0m\n\u001b[0;32m-> 6843\u001b[0;31m   \u001b[0msix\u001b[0m\u001b[0;34m.\u001b[0m\u001b[0mraise_from\u001b[0m\u001b[0;34m(\u001b[0m\u001b[0mcore\u001b[0m\u001b[0;34m.\u001b[0m\u001b[0m_status_to_exception\u001b[0m\u001b[0;34m(\u001b[0m\u001b[0me\u001b[0m\u001b[0;34m.\u001b[0m\u001b[0mcode\u001b[0m\u001b[0;34m,\u001b[0m \u001b[0mmessage\u001b[0m\u001b[0;34m)\u001b[0m\u001b[0;34m,\u001b[0m \u001b[0;32mNone\u001b[0m\u001b[0;34m)\u001b[0m\u001b[0;34m\u001b[0m\u001b[0;34m\u001b[0m\u001b[0m\n\u001b[0m\u001b[1;32m   6844\u001b[0m   \u001b[0;31m# pylint: enable=protected-access\u001b[0m\u001b[0;34m\u001b[0m\u001b[0;34m\u001b[0m\u001b[0;34m\u001b[0m\u001b[0m\n\u001b[1;32m   6845\u001b[0m \u001b[0;34m\u001b[0m\u001b[0m\n",
            "\u001b[0;32m/usr/local/lib/python3.6/dist-packages/six.py\u001b[0m in \u001b[0;36mraise_from\u001b[0;34m(value, from_value)\u001b[0m\n",
            "\u001b[0;31mInvalidArgumentError\u001b[0m: Matrix size-incompatible: In[0]: [64,32], In[1]: [64,10] [Op:MatMul]"
          ]
        }
      ]
    },
    {
      "cell_type": "code",
      "metadata": {
        "id": "_AGr94xEotGG"
      },
      "source": [
        "#Save model\r\n",
        "model.save_weights('cifar10_DenseNet')"
      ],
      "execution_count": null,
      "outputs": []
    }
  ]
}