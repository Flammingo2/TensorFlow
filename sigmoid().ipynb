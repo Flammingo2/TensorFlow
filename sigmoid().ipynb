{
 "cells": [
  {
   "cell_type": "code",
   "execution_count": 166,
   "metadata": {},
   "outputs": [],
   "source": [
    "import numpy as np\n",
    "import math"
   ]
  },
  {
   "cell_type": "code",
   "execution_count": 167,
   "metadata": {},
   "outputs": [],
   "source": [
    "def sigmoid(x):\n",
    "    return (1/(1+math.e**(-x)))\n"
   ]
  },
  {
   "cell_type": "code",
   "execution_count": 168,
   "metadata": {},
   "outputs": [],
   "source": [
    "def sigmoidprime(x):\n",
    "    return ((math.e**(-x))/(1+math.e**(-x))**2)"
   ]
  },
  {
   "cell_type": "code",
   "execution_count": 169,
   "metadata": {},
   "outputs": [],
   "source": [
    "# To make sure that you get the implementation right let us first have a look at the data structure.\n",
    "# These are the four possible input pairs of (x1,x2).\n",
    "x = np.array([[0,0],[0,1],[1,0],[1,1]])\n",
    "\n",
    "# These are possible labels for all logical gates/tasks.\n",
    "tasks = {\n",
    "    \"t_and\" : np.array([0,0,0,1]),\n",
    "    \"t_or\" : np.array([0,1,1,1]),\n",
    "    \"t_nand\" : np.array([1,1,1,0]),\n",
    "    \"t_nor\" : np.array([1,0,0,0]),\n",
    "    \"t_xor\" : np.array([0,1,1,0])\n",
    "}"
   ]
  },
  {
   "cell_type": "code",
   "execution_count": 170,
   "metadata": {},
   "outputs": [],
   "source": [
    "class Perceptron:\n",
    "    \n",
    "    def __init__(self, input_units):\n",
    "        self.input_units = input_units\n",
    "        # 1. Initialize random weights and a random bias term. Check 'np.random.randn()'.\n",
    "        self.weights = np.random.randn(input_units)\n",
    "        self.bias = np.random.randn()\n",
    "        # 2. Define the learning rate as 1\n",
    "        self.alpha = 1\n",
    "        #store drive of neuron\n",
    "        self.weighted_sum = 0\n",
    "        \n",
    "    def forward_step(self, input):\n",
    "        # Perform a perceptron forward step.\n",
    "        # 1. Calculate the drive. You can use @ as a matrix multiplication command.\n",
    "        #self.weights @ input\n",
    "        self.weighted_sum = np.dot(input, self.weights)  + self.bias \n",
    "\n",
    "        # 2. Return activation of Perceptron, depending on whether the perceptron surpassed the threshold. \n",
    "        if self.weighted_sum > 0:\n",
    "            return sigmoid(self.weighted_sum)\n",
    "        else:\n",
    "            return 0\n",
    "        \n",
    "    \n",
    "    def update(self, delta):\n",
    "        self.bias = self.bias - (self.alpha * delta)\n",
    "        self.weights = self.weights - (self.alpha * delta * sigmoid(self.weighted_sum))\n",
    "        \n",
    "        \n",
    "    "
   ]
  },
  {
   "cell_type": "code",
   "execution_count": 171,
   "metadata": {
    "scrolled": true
   },
   "outputs": [],
   "source": [
    "class MLP:\n",
    "    \n",
    "    def __init__(self):\n",
    "        #Create array with 4 Perceptrons (hidden layer)\n",
    "        self.perceptrons = np.array([Perceptron(2), Perceptron(2), Perceptron(2), Perceptron(2)])\n",
    "        #Create the one read-out Perceptron\n",
    "        self.readout_perceptron = Perceptron(4)\n",
    "        #output of MLP\n",
    "        self.output = 0.0\n",
    "        \n",
    "        #Storage of values about MLP, loss and accuracy\n",
    "        accuracy = []\n",
    "        loss = []\n",
    "    \n",
    "    def forward_step(self, sample):\n",
    "        #Store if Perceptron fires or not, if drive gets above threshold\n",
    "        self.activation = np.empty(4)\n",
    "        #Processing drive for every Perceptron in hidden layer (self.perceptrons)\n",
    "        for i in range(4):\n",
    "            self.activation[i] = self.perceptrons[i].forward_step(sample)\n",
    "        #Storing output of network\n",
    "        self.output = self.readout_perceptron.forward_step(self.activation)\n",
    "      \n",
    "        return \n",
    "        \n",
    "        \n",
    "    def backprop_step(self, label):\n",
    "                \n",
    "        #delta calculation for read_out Perceptron\n",
    "        # -(target-activation)*sigmoid'(drive) for l=N (output layer)\n",
    "        readout_perceptron_delta = (-(label - self.output)) * sigmoidprime(self.readout_perceptron.weighted_sum)\n",
    "        #delta calculation for hidden layer Perceptrons\n",
    "        delta = np.empty(4)\n",
    "        for i in range(4):\n",
    "            # (sum irrelevant because in this case there is just one perceptron in subsequent layer)\n",
    "            # delta(l+1)*weight(i)(l+1)*sigmoidprime(drive(l))\n",
    "            delta[i] = readout_perceptron_delta * self.readout_perceptron.weights[i] * sigmoidprime(self.perceptrons[i].weighted_sum)\n",
    "        \n",
    "        #calling for updating weights and bias\n",
    "        #1. update output layer\n",
    "        self.readout_perceptron.update(readout_perceptron_delta)\n",
    "        #2. update hidden layer\n",
    "        for i in range(4):\n",
    "            self.perceptrons[i].update(delta[i])\n",
    "\n",
    "    \n",
    "        \n",
    "    def training_step(self, input_index, task_label):\n",
    "        #current sample\n",
    "        sample = x[input_index]\n",
    "        #current label for this specific sample\n",
    "        label = task_label[input_index]\n",
    "                \n",
    "        #Forward step mit input-Wert array e.g. [0,1]\n",
    "        self.forward_step(sample)\n",
    "        #Backpropagation step with label for this input, 1 or 0\n",
    "        self.backprop_step(label)\n",
    "        \n",
    "        #Calculate loss and accuracy measurements for this specific trial\n",
    "        #loss calculation\n",
    "        single_loss = (label - self.output)**2\n",
    "        #accuracy calculation\n",
    "        if abs((label - self.output)) < 0.5:\n",
    "            single_accuracy = 1\n",
    "        else:\n",
    "            single_accuracy = 0\n",
    "            \n",
    "        #returning both measurements for further, broader calculations\n",
    "        return np.array([single_loss, single_accuracy])\n",
    "        \n",
    "        \n",
    "        \n",
    "        \n",
    "            \n",
    "        "
   ]
  },
  {
   "cell_type": "code",
   "execution_count": 172,
   "metadata": {},
   "outputs": [],
   "source": [
    "#Storage of epochs already done, mean accuracy and mean loss epochs = []\n",
    "accuracy = []\n",
    "loss = []\n",
    "\n",
    "task_choice = np.array([\"t_and\", \"t_or\", \"t_nand\", \"t_nor\", \"t_xor\"])\n",
    "#Create MLP for \n",
    "MLP1 = MLP()\n",
    "#repeat course for 1000 epochs\n",
    "for i in range(1000):\n",
    "    #repeat for every task option\n",
    "    for j in task_choice:\n",
    "        #array with labels for each possible sample for this task\n",
    "        task_label = tasks[j]\n",
    "        #execute training for every possible data set in every task option\n",
    "        for k in range(4):\n",
    "            input_index = k\n",
    "            #Do one training step, get for this task and sample individual loss and accuary measurements\n",
    "            single_measurements = MLP1.training_step(input_index, task_label)\n",
    "            \n",
    "            #Sum up loss and accuracy measurements over one epoch (20 trials because 5 task of each 4 samples)\n",
    "            loss_sum = loss_sum + single_measurements[0]\n",
    "            accuracy_sum = accuracy_sum + single_measurements[1]\n",
    "    \n",
    "    #Calculate mean accuracy for this epoch and add it to accuracy list for visualization\n",
    "    accuracy.append((accuracy_sum / 20))\n",
    "    #Calculate mean loss for this epoch and add it to loss list for visualization\n",
    "    loss.append((loss_sum/20))\n",
    "    \n",
    "    #reset loss and accuracy count for one epoch\n",
    "    loss_sum = 0\n",
    "    accuracy_sum = 0"
   ]
  },
  {
   "cell_type": "code",
   "execution_count": 173,
   "metadata": {},
   "outputs": [
    {
     "data": {
      "image/png": "[encoded data removed]",
      "text/plain": [
       "<Figure size 432x288 with 1 Axes>"
      ]
     },
     "metadata": {
      "needs_background": "light"
     },
     "output_type": "display_data"
    }
   ],
   "source": [
    "#Plot accuracy over epochs\n",
    "import matplotlib.pyplot as plt\n",
    "plt.figure()\n",
    "plt.plot(range(1000), accuracy)\n",
    "plt.xlabel(\"Training Epochs\")\n",
    "plt.ylabel(\"Accuracy\")\n",
    "plt.ylim([-0.1, 1.2])\n",
    "plt.show()"
   ]
  },
  {
   "cell_type": "code",
   "execution_count": 174,
   "metadata": {},
   "outputs": [
    {
     "name": "stdout",
     "output_type": "stream",
     "text": [
      "[0.6, 0.35, 0.45, 0.4, 0.3, 0.35, 0.4, 0.45, 0.45, 0.6, 0.55, 0.6, 0.4, 0.45, 0.45, 0.5, 0.5, 0.55, 0.5, 0.55, 0.5, 0.55, 0.5, 0.55, 0.5, 0.55, 0.5, 0.55, 0.5, 0.55, 0.5, 0.55, 0.5, 0.55, 0.5, 0.55, 0.5, 0.55, 0.5, 0.55, 0.5, 0.55, 0.5, 0.55, 0.5, 0.55, 0.5, 0.55, 0.5, 0.55, 0.5, 0.55, 0.5, 0.55, 0.5, 0.55, 0.5, 0.55, 0.5, 0.55, 0.5, 0.55, 0.5, 0.55, 0.5, 0.55, 0.5, 0.55, 0.5, 0.55, 0.5, 0.55, 0.5, 0.55, 0.5, 0.55, 0.5, 0.55, 0.5, 0.55, 0.5, 0.55, 0.5, 0.55, 0.5, 0.55, 0.5, 0.55, 0.5, 0.55, 0.5, 0.55, 0.5, 0.55, 0.5, 0.55, 0.5, 0.55, 0.5, 0.55, 0.5, 0.55, 0.5, 0.55, 0.5, 0.55, 0.5, 0.55, 0.5, 0.55, 0.5, 0.55, 0.5, 0.55, 0.5, 0.55, 0.5, 0.55, 0.5, 0.55, 0.5, 0.55, 0.4, 0.3, 0.55, 0.5, 0.5, 0.3, 0.45, 0.55, 0.4, 0.45, 0.4, 0.5, 0.45, 0.5, 0.35, 0.5, 0.35, 0.5, 0.5, 0.35, 0.4, 0.55, 0.35, 0.4, 0.5, 0.4, 0.4, 0.3, 0.45, 0.35, 0.4, 0.35, 0.3, 0.35, 0.35, 0.4, 0.35, 0.3, 0.35, 0.45, 0.45, 0.4, 0.4, 0.4, 0.4, 0.4, 0.4, 0.4, 0.4, 0.4, 0.4, 0.4, 0.4, 0.4, 0.4, 0.4, 0.4, 0.4, 0.4, 0.4, 0.4, 0.4, 0.4, 0.4, 0.4, 0.4, 0.4, 0.4, 0.4, 0.4, 0.4, 0.4, 0.4, 0.4, 0.4, 0.4, 0.4, 0.4, 0.4, 0.4, 0.4, 0.4, 0.4, 0.4, 0.4, 0.4, 0.4, 0.4, 0.4, 0.4, 0.4, 0.4, 0.4, 0.4, 0.4, 0.4, 0.4, 0.4, 0.4, 0.4, 0.4, 0.4, 0.4, 0.4, 0.4, 0.4, 0.4, 0.4, 0.4, 0.4, 0.4, 0.4, 0.4, 0.4, 0.4, 0.4, 0.4, 0.4, 0.4, 0.4, 0.4, 0.4, 0.4, 0.4, 0.4, 0.4, 0.4, 0.4, 0.4, 0.4, 0.4, 0.4, 0.4, 0.4, 0.4, 0.4, 0.4, 0.4, 0.4, 0.4, 0.4, 0.4, 0.4, 0.4, 0.4, 0.4, 0.4, 0.4, 0.4, 0.4, 0.4, 0.4, 0.45, 0.5, 0.55, 0.5, 0.55, 0.5, 0.55, 0.5, 0.55, 0.5, 0.55, 0.5, 0.55, 0.5, 0.55, 0.5, 0.55, 0.5, 0.55, 0.5, 0.55, 0.5, 0.55, 0.5, 0.55, 0.5, 0.55, 0.5, 0.55, 0.5, 0.55, 0.5, 0.55, 0.5, 0.55, 0.5, 0.55, 0.5, 0.55, 0.5, 0.55, 0.5, 0.55, 0.5, 0.55, 0.5, 0.55, 0.5, 0.55, 0.5, 0.55, 0.5, 0.55, 0.5, 0.55, 0.5, 0.55, 0.5, 0.55, 0.5, 0.55, 0.5, 0.55, 0.5, 0.55, 0.5, 0.55, 0.5, 0.55, 0.5, 0.55, 0.5, 0.55, 0.5, 0.55, 0.5, 0.55, 0.5, 0.55, 0.5, 0.55, 0.5, 0.55, 0.5, 0.55, 0.5, 0.55, 0.5, 0.55, 0.55, 0.5, 0.55, 0.55, 0.55, 0.5, 0.55, 0.55, 0.55, 0.55, 0.55, 0.55, 0.55, 0.55, 0.55, 0.55, 0.55, 0.55, 0.55, 0.55, 0.55, 0.55, 0.55, 0.5, 0.6, 0.5, 0.5, 0.6, 0.5, 0.5, 0.6, 0.55, 0.55, 0.55, 0.55, 0.55, 0.55, 0.55, 0.55, 0.5, 0.6, 0.5, 0.5, 0.6, 0.55, 0.55, 0.55, 0.55, 0.5, 0.6, 0.55, 0.5, 0.5, 0.6, 0.55, 0.55, 0.55, 0.55, 0.5, 0.6, 0.55, 0.5, 0.5, 0.6, 0.55, 0.55, 0.55, 0.55, 0.5, 0.6, 0.5, 0.5, 0.6, 0.55, 0.55, 0.55, 0.55, 0.5, 0.6, 0.55, 0.5, 0.5, 0.6, 0.55, 0.55, 0.5, 0.6, 0.55, 0.55, 0.5, 0.6, 0.55, 0.5, 0.5, 0.6, 0.55, 0.55, 0.55, 0.55, 0.5, 0.6, 0.5, 0.5, 0.6, 0.55, 0.55, 0.5, 0.6, 0.55, 0.55, 0.5, 0.6, 0.55, 0.5, 0.5, 0.6, 0.55, 0.55, 0.5, 0.6, 0.55, 0.5, 0.5, 0.6, 0.55, 0.55, 0.5, 0.6, 0.55, 0.5, 0.5, 0.6, 0.55, 0.55, 0.5, 0.6, 0.55, 0.5, 0.5, 0.6, 0.55, 0.5, 0.6, 0.55, 0.55, 0.5, 0.6, 0.55, 0.5, 0.5, 0.6, 0.5, 0.5, 0.6, 0.55, 0.55, 0.55, 0.55, 0.5, 0.6, 0.5, 0.5, 0.6, 0.5, 0.5, 0.6, 0.55, 0.55, 0.55, 0.55, 0.5, 0.6, 0.5, 0.5, 0.55, 0.5, 0.6, 0.55, 0.55, 0.55, 0.55, 0.5, 0.6, 0.5, 0.5, 0.6, 0.5, 0.5, 0.6, 0.55, 0.55, 0.55, 0.5, 0.6, 0.5, 0.5, 0.6, 0.5, 0.5, 0.6, 0.55, 0.55, 0.55, 0.5, 0.6, 0.5, 0.5, 0.55, 0.4, 0.5, 0.5, 0.55, 0.4, 0.5, 0.4, 0.5, 0.4, 0.5, 0.5, 0.55, 0.4, 0.5, 0.5, 0.55, 0.45, 0.55, 0.35, 0.45, 0.45, 0.45, 0.45, 0.4, 0.5, 0.45, 0.45, 0.4, 0.45, 0.5, 0.45, 0.45, 0.4, 0.45, 0.5, 0.45, 0.45, 0.4, 0.45, 0.5, 0.45, 0.45, 0.4, 0.45, 0.5, 0.45, 0.45, 0.4, 0.45, 0.5, 0.45, 0.45, 0.4, 0.45, 0.5, 0.45, 0.45, 0.4, 0.45, 0.5, 0.45, 0.45, 0.4, 0.45, 0.5, 0.45, 0.45, 0.4, 0.45, 0.5, 0.45, 0.45, 0.4, 0.45, 0.5, 0.45, 0.45, 0.4, 0.45, 0.5, 0.45, 0.45, 0.4, 0.45, 0.5, 0.45, 0.45, 0.4, 0.45, 0.5, 0.45, 0.45, 0.4, 0.45, 0.5, 0.45, 0.45, 0.4, 0.45, 0.5, 0.45, 0.45, 0.4, 0.5, 0.45, 0.45, 0.4, 0.45, 0.5, 0.45, 0.45, 0.4, 0.45, 0.5, 0.45, 0.45, 0.4, 0.45, 0.5, 0.45, 0.45, 0.4, 0.45, 0.5, 0.45, 0.45, 0.4, 0.5, 0.5, 0.55, 0.55, 0.5, 0.55, 0.4, 0.6, 0.55, 0.5, 0.5, 0.55, 0.5, 0.55, 0.4, 0.5, 0.55, 0.5, 0.55, 0.35, 0.45, 0.4, 0.5, 0.5, 0.5, 0.5, 0.5, 0.5, 0.5, 0.5, 0.5, 0.5, 0.5, 0.5, 0.5, 0.5, 0.5, 0.5, 0.5, 0.5, 0.5, 0.5, 0.5, 0.5, 0.5, 0.5, 0.5, 0.5, 0.5, 0.5, 0.5, 0.5, 0.5, 0.5, 0.5, 0.5, 0.5, 0.5, 0.5, 0.5, 0.5, 0.5, 0.5, 0.5, 0.5, 0.5, 0.5, 0.5, 0.5, 0.5, 0.5, 0.5, 0.5, 0.5, 0.5, 0.5, 0.5, 0.5, 0.5, 0.5, 0.5, 0.5, 0.5, 0.5, 0.5, 0.5, 0.5, 0.5, 0.5, 0.5, 0.5, 0.5, 0.5, 0.5, 0.5, 0.5, 0.5, 0.5, 0.5, 0.5, 0.5, 0.5, 0.5, 0.5, 0.5, 0.5, 0.5, 0.5, 0.5, 0.5, 0.5, 0.5, 0.5, 0.5, 0.5, 0.5, 0.5, 0.5, 0.5, 0.5, 0.5, 0.5, 0.5, 0.5, 0.5, 0.5, 0.5, 0.5, 0.5, 0.5, 0.5, 0.5, 0.5, 0.5, 0.5, 0.5, 0.5, 0.5, 0.5, 0.5, 0.5, 0.5, 0.5, 0.5, 0.5, 0.5, 0.5, 0.5, 0.5, 0.5, 0.5, 0.5, 0.5, 0.5, 0.5, 0.5, 0.5, 0.5, 0.5, 0.5, 0.5, 0.5, 0.5, 0.5, 0.5, 0.5, 0.5, 0.5, 0.5, 0.5, 0.5, 0.5, 0.5, 0.5, 0.5, 0.5, 0.5, 0.5, 0.5, 0.5, 0.5, 0.5, 0.5, 0.5, 0.5, 0.5, 0.5, 0.5, 0.5, 0.5, 0.5, 0.5, 0.5, 0.5, 0.5, 0.5, 0.5, 0.5, 0.5, 0.5, 0.5, 0.5, 0.5, 0.5, 0.5, 0.5, 0.5, 0.5, 0.5, 0.5, 0.5, 0.5, 0.5, 0.5, 0.5, 0.5, 0.5, 0.5, 0.5, 0.5, 0.5, 0.5, 0.5, 0.5, 0.5, 0.5, 0.5, 0.5, 0.5, 0.5, 0.5, 0.5, 0.5, 0.5, 0.5, 0.5, 0.5, 0.5, 0.5, 0.5, 0.5, 0.5, 0.5, 0.5, 0.5, 0.5, 0.5, 0.5, 0.5, 0.5, 0.5, 0.5, 0.5, 0.5, 0.5, 0.5, 0.5, 0.5, 0.5, 0.5, 0.5, 0.5, 0.5, 0.5, 0.5, 0.5, 0.5, 0.5, 0.5, 0.5, 0.5, 0.5, 0.5, 0.5, 0.5, 0.5, 0.5, 0.5, 0.5, 0.5, 0.5, 0.5, 0.5, 0.5, 0.5, 0.5, 0.5, 0.5, 0.5, 0.5, 0.5, 0.5, 0.5, 0.5, 0.5, 0.5, 0.5, 0.5, 0.5, 0.5, 0.5, 0.5]\n"
     ]
    }
   ],
   "source": [
    "print(accuracy)"
   ]
  },
  {
   "cell_type": "code",
   "execution_count": 175,
   "metadata": {},
   "outputs": [
    {
     "data": {
      "image/png": "[encoded data removed]",
      "text/plain": [
       "<Figure size 432x288 with 1 Axes>"
      ]
     },
     "metadata": {
      "needs_background": "light"
     },
     "output_type": "display_data"
    }
   ],
   "source": [
    "#Plot loss over epochs\n",
    "plt.figure()\n",
    "plt.plot(range(1000), loss)\n",
    "plt.xlabel(\"Training Epochs\")\n",
    "plt.ylabel(\"Loss\")\n",
    "plt.ylim([-0.1, 1.2])\n",
    "plt.show()"
   ]
  },
  {
   "cell_type": "code",
   "execution_count": 176,
   "metadata": {},
   "outputs": [
    {
     "name": "stdout",
     "output_type": "stream",
     "text": [
      "[0.3451492837762292, 0.43775639624151086, 0.3785603260421425, 0.3947423410003548, 0.4598206580237453, 0.4382826122408286, 0.4272135268616194, 0.38050618320699936, 0.39962955790580773, 0.2837062578232505, 0.32416860969557454, 0.2717640651751851, 0.3884024060518272, 0.35305878550086545, 0.3495637094985748, 0.3087566774334612, 0.2843385406655766, 0.2703401171157481, 0.2841623515157813, 0.27030901373932636, 0.2841377469453062, 0.2703046562351803, 0.2841342696995301, 0.27030404012006615, 0.28413377743189155, 0.2703039528918767, 0.28413370772541724, 0.2703039405400039, 0.2841336978544444, 0.2703039387908813, 0.28413369645663183, 0.2703039385431909, 0.28413369625868984, 0.27030393850811585, 0.28413369623065954, 0.2703039385031488, 0.28413369622669027, 0.2703039385024455, 0.2841336962261281, 0.27030393850234596, 0.2841336962260485, 0.2703039385023318, 0.2841336962260373, 0.27030393850232987, 0.2841336962260357, 0.27030393850232953, 0.28413369622603546, 0.2703039385023295, 0.2841336962260355, 0.2703039385023295, 0.28413369622603546, 0.2703039385023295, 0.28413369622603546, 0.2703039385023295, 0.28413369622603546, 0.2703039385023295, 0.28413369622603546, 0.2703039385023295, 0.28413369622603546, 0.2703039385023295, 0.28413369622603546, 0.2703039385023295, 0.28413369622603546, 0.2703039385023295, 0.28413369622603546, 0.2703039385023295, 0.28413369622603546, 0.2703039385023295, 0.28413369622603546, 0.2703039385023295, 0.28413369622603546, 0.2703039385023295, 0.28413369622603546, 0.2703039385023295, 0.28413369622603546, 0.2703039385023295, 0.28413369622603546, 0.2703039385023295, 0.28413369622603546, 0.2703039385023295, 0.28413369622603546, 0.2703039385023295, 0.28413369622603546, 0.2703039385023295, 0.28413369622603546, 0.2703039385023295, 0.28413369622603546, 0.2703039385023295, 0.28413369622603546, 0.2703039385023295, 0.28413369622603546, 0.2703039385023295, 0.28413369622603546, 0.2703039385023295, 0.28413369622603546, 0.2703039385023295, 0.28413369622603546, 0.2703039385023295, 0.28413369622603546, 0.2703039385023295, 0.28413369622603546, 0.2703039385023295, 0.28413369622603546, 0.2703039385023295, 0.28413369622603546, 0.2703039385023295, 0.28413369622603546, 0.2703039385023295, 0.28413369622603546, 0.2703039385023295, 0.28413369622603546, 0.2703039385023295, 0.28413369622603546, 0.2703039385023295, 0.28413369622603546, 0.2703039385023295, 0.28413369622603546, 0.2703039385023295, 0.28413369622603546, 0.2703039385023295, 0.28413369622603546, 0.2703039385023295, 0.3603519667807791, 0.43673891360563877, 0.31749768506771725, 0.3324051335116813, 0.33262817785471055, 0.4883281955625544, 0.42068866631196594, 0.3178629749480709, 0.411763642747228, 0.39577601879604263, 0.4087689912024272, 0.3311352267508633, 0.3955739258662634, 0.3306068212784953, 0.4720732803770581, 0.33109478690514493, 0.47290958795923055, 0.3312614819283467, 0.3307717415459035, 0.4722532118528573, 0.43487126121629577, 0.31745669042436486, 0.47338577867322373, 0.43538120617579673, 0.3304377784862337, 0.383633917423914, 0.38356421350905556, 0.4609071957663426, 0.3719686874863421, 0.4212794364941592, 0.4106825104120576, 0.42218951859134374, 0.46114819014747266, 0.42264675134444907, 0.4211927168372146, 0.4106183766828213, 0.4221254274243065, 0.4610649849863945, 0.4225857001646444, 0.39444710874727335, 0.37292736092118756, 0.3865780165947522, 0.3863276028874809, 0.38621118082831607, 0.38615706848065573, 0.38613193220998826, 0.3861202109134669, 0.3861146555476804, 0.3861119092665997, 0.38611043056438793, 0.38610951862535015, 0.38610885844150783, 0.3861083102036692, 0.38610781272362854, 0.3861073396280192, 0.3861068797300251, 0.38610642835455333, 0.3861059835638478, 0.3861055445447319, 0.38610511093408273, 0.3861046825439197, 0.3861042592528954, 0.3861038409651653, 0.38610342759557514, 0.3861030190646358, 0.38610261529689055, 0.38610221622033136, 0.38610182176607843, 0.3861014318680981, 0.3861010464629173, 0.3861006654893441, 0.3861002888882026, 0.38609991660209697, 0.38609954857520196, 0.3860991847530835, 0.386098825082546, 0.3860984695115023, 0.38609811798886523, 0.3860977704644566, 0.3860974268889308, 0.386097087213711, 0.3860967513909369, 0.38609641937342, 0.3860960911146075, 0.38609576656855144, 0.38609544568988363, 0.3860951284337949, 0.3860948147560176, 0.38609450461281086, 0.38609419796094874, 0.38609389475771005, 0.38609359496086987, 0.3860932985286922, 0.38609300541992403, 0.3860927155937898, 0.38609242900998697, 0.38609214562868116, 0.38609186541050355, 0.3860915883165462, 0.38609131430835963, 0.386091043347949, 0.386090775397772, 0.3860905104207346, 0.3860902483801893, 0.3860899892399316, 0.38608973296419685, 0.3860894795176573, 0.3860892288654195, 0.3860889809730204, 0.3860887358064245, 0.38608849333202067, 0.3860882535166181, 0.3860880163274437, 0.38608778173213837, 0.38608754969875286, 0.3860873201957446, 0.38608709319197404, 0.3860868686567005, 0.3860866465595787, 0.38608642687065486, 0.38608620956036266, 0.3860859945995191, 0.386085781959321, 0.38608557161134044, 0.38608536352752143, 0.38608515768017504, 0.38608495404197585, 0.3860847525859577, 0.3860845532855097, 0.38608435611437203, 0.38608416104663174, 0.3860839680567189, 0.3860837771194022, 0.3860835882097856, 0.3860834013033026, 0.3860832163757145, 0.38608303340310435, 0.3860828523618739, 0.3860826732287394, 0.3860824959807277, 0.386082320595172, 0.3860821470497082, 0.38608197532227106, 0.3860818053910898, 0.3860816372346849, 0.38608147083186384, 0.3860813061617175, 0.3860811432036162, 0.3860809819372065, 0.3860808223424067, 0.38608066439940397, 0.38608050808865013, 0.3474155228844897, 0.28501077372144756, 0.2704574754690218, 0.28425209768537185, 0.2703248783025519, 0.2841503433542518, 0.27030688752439097, 0.28413605119496566, 0.2703043557830167, 0.284134029661375, 0.2703039975862841, 0.28413374344234454, 0.2703039468689884, 0.2841337029122466, 0.27030393968711686, 0.2841336971728592, 0.2703039386701055, 0.28413369636011376, 0.27030393852608803, 0.284133696245022, 0.2703039385056939, 0.2841336962287241, 0.27030393850280593, 0.28413369622641615, 0.270303938502397, 0.2841336962260893, 0.2703039385023391, 0.284133696226043, 0.2703039385023308, 0.28413369622603646, 0.2703039385023297, 0.28413369622603557, 0.27030393850232953, 0.28413369622603546, 0.2703039385023295, 0.28413369622603546, 0.2703039385023295, 0.28413369622603546, 0.2703039385023295, 0.28413369622603546, 0.2703039385023295, 0.28413369622603546, 0.2703039385023295, 0.28413369622603546, 0.2703039385023295, 0.28413369622603546, 0.2703039385023295, 0.28413369622603546, 0.2703039385023295, 0.28413369622603546, 0.2703039385023295, 0.28413369622603546, 0.2703039385023295, 0.28413369622603546, 0.2703039385023295, 0.28413369622603546, 0.2703039385023295, 0.28413369622603546, 0.2703039385023295, 0.28413369622603546, 0.2703039385023295, 0.28413369622603546, 0.2703039385023295, 0.28413369622603546, 0.2703039385023295, 0.28413369622603546, 0.2703039385023295, 0.28413369622603546, 0.2703039385023295, 0.28413369622603546, 0.2703039385023295, 0.28413369622603546, 0.2703039385023295, 0.28413369622603546, 0.2703039385023295, 0.28413369622603546, 0.2703039385023295, 0.28413369622603546, 0.2703039385023295, 0.28413369622603546, 0.2703039385023295, 0.28413369622603546, 0.2703039385023295, 0.28413369622603546, 0.2703039385023295, 0.28413369622603546, 0.2703039385023295, 0.28413369622603546, 0.2703039385023295, 0.2671017031008454, 0.2844820551709678, 0.2703653330409909, 0.2671283769984773, 0.2673091862670517, 0.28463221055056614, 0.2703916135566753, 0.26713961543090275, 0.2673139965531272, 0.26738665035885434, 0.26741595527981804, 0.2674276350385103, 0.26743226876354054, 0.26743410380224386, 0.2674348299958445, 0.26743511729745933, 0.2674352309490905, 0.26743527590577554, 0.2674352936887897, 0.26743530072296984, 0.2674353035053755, 0.2674353046059689, 0.2674353050413136, 0.3078299514230826, 0.2525155512578052, 0.30842274471170344, 0.3072363344297121, 0.25250242716783494, 0.30830397320038844, 0.3071962578038114, 0.25250193857827197, 0.26775344655274563, 0.2675573031992883, 0.26748295214472784, 0.267454056270615, 0.2674427072970168, 0.26743823085172436, 0.2674364621617807, 0.26743576285985055, 0.3078298842500749, 0.2525155498168867, 0.3084224641729237, 0.3072361494277812, 0.2525024249286623, 0.2677592916508258, 0.2675594812848964, 0.2674837922816551, 0.26745438521189524, 0.3078406621494615, 0.25251587922300717, 0.2678439199850423, 0.3080590705602163, 0.30711217542934705, 0.25250110214323185, 0.2677410184922212, 0.2675526653251731, 0.2674811620401074, 0.26745335519454594, 0.30783990789548904, 0.25251585636233476, 0.2678438194694247, 0.3080588206648375, 0.30711202760393325, 0.2525011009770486, 0.2677409978120826, 0.2675526576001071, 0.2674811590570894, 0.2674533540260602, 0.3078396755373468, 0.25251584965034096, 0.30842387860356796, 0.30723649050281165, 0.25250242954298163, 0.26775934390589123, 0.2675595007478416, 0.2674837997873728, 0.267454388150373, 0.3078402234050125, 0.25251586654700764, 0.26784386425881496, 0.30805855176287444, 0.30711185052602386, 0.2525010995942, 0.26774097327244895, 0.2675526484332934, 0.30789712207113284, 0.25251765117451835, 0.2678515101739193, 0.2675935865209927, 0.30792039497659973, 0.2525184040578503, 0.2678546238739576, 0.3080642935909079, 0.3071138164630866, 0.2525011161722553, 0.2677412662330857, 0.26755275786677807, 0.267481197774508, 0.2674533691921043, 0.30783933899482846, 0.25251583994870197, 0.3084233982386693, 0.30723622145989016, 0.2525024262465559, 0.2677593065808125, 0.2675594868457424, 0.3079008358121905, 0.2525177707480779, 0.2678520088864219, 0.26759376968249254, 0.30792029739865884, 0.25251840120121727, 0.2678546121763086, 0.3080640717193049, 0.307113686476027, 0.2525011151387943, 0.26774124804793054, 0.26755275107398513, 0.3078968932841701, 0.2525176443188656, 0.26785148153162275, 0.30806237285484467, 0.3071130945456866, 0.2525011101473408, 0.26774116007181226, 0.26755271821154075, 0.3078968439764585, 0.25251764278904104, 0.2678514751394258, 0.30806233038320807, 0.3071130703789907, 0.25250110995526986, 0.26774115668168935, 0.26755271694519095, 0.30789679532182507, 0.25251764130927723, 0.26785146895614953, 0.30806227743188136, 0.3071130417576985, 0.25250110972679923, 0.2677411526486314, 0.30800238923832757, 0.25252116002802405, 0.267865532454168, 0.2675987314140577, 0.3079229586232467, 0.25251848835431134, 0.2678549686698415, 0.3080641065427295, 0.30711366226996295, 0.25250111497896754, 0.3082764493907455, 0.30718638745294125, 0.25250182778333274, 0.2677520056268117, 0.26755676594968947, 0.26748274486141793, 0.2674539751035633, 0.30783943621441595, 0.25251584338303273, 0.30842312784108417, 0.3072360671838777, 0.25250242436022924, 0.3083023234727878, 0.30719517277135944, 0.25250192693022644, 0.2677532972447222, 0.267557247535475, 0.26748293066933526, 0.2674540478615408, 0.3078394324849928, 0.2525158433506704, 0.30842308952339137, 0.3072360482591362, 0.29326916338746656, 0.30745520412866734, 0.252506045634351, 0.2677907556075669, 0.26757117156559324, 0.2674882955232284, 0.2674561474053734, 0.3078406737483816, 0.25251588138142417, 0.30842332818569207, 0.30723612808586354, 0.2525024251555094, 0.3083022890162761, 0.3071951508986129, 0.2525019266953267, 0.26775329422859456, 0.267557246411013, 0.2674829302355095, 0.3078563111110675, 0.2525163640276291, 0.3084263122379156, 0.3072371327846779, 0.252502438119497, 0.30830248479169553, 0.30719521447933773, 0.2525019274271748, 0.2677533036248994, 0.26755724991410823, 0.2674829315870292, 0.3078562947171393, 0.2525163635483095, 0.3084262937720486, 0.3072371244047125, 0.29326928976128125, 0.40871260110362284, 0.30834421735650563, 0.30720936896993445, 0.2932645758012704, 0.4087025034309909, 0.30834104678256513, 0.40823170704640743, 0.3081937896452954, 0.40813240200935913, 0.332201205929218, 0.3078448673008799, 0.29337235378263277, 0.40892197813384, 0.33244049213334587, 0.307952096592783, 0.29339061245755527, 0.3712273222292943, 0.2932200984300368, 0.4474302132706048, 0.4199031074779379, 0.41949278869543427, 0.3946144656028341, 0.4183654498213777, 0.45505993533624006, 0.4058043684327906, 0.3942678841174322, 0.4181963924281923, 0.4548976713227645, 0.44241020832753086, 0.4058443633843528, 0.39437529660169746, 0.41824916244422283, 0.4549486014780819, 0.4424272388918653, 0.4058481060010838, 0.3943849920061601, 0.41825390825360476, 0.45495316756961446, 0.44242876435363365, 0.40584844131520714, 0.39438585873433885, 0.41825433207888424, 0.45495357301483474, 0.44242889731204504, 0.40584846961587545, 0.39438593310034287, 0.4182543679924479, 0.45495360475087326, 0.4424289047765745, 0.4058484700804296, 0.3943859359820066, 0.4182543687953545, 0.45495360245011296, 0.4424289006034122, 0.4058484678863807, 0.394385932280235, 0.41825436628500867, 0.4549535968607105, 0.44242889526488194, 0.40584846541518926, 0.394385928047322, 0.41825436345887435, 0.4549535909862252, 0.44242888990766405, 0.40584846297425614, 0.39438592398625094, 0.41825436069272187, 0.45495358527734686, 0.4424288847828448, 0.4058484606561885, 0.3943859202545067, 0.41825435809054046, 0.454953579896136, 0.44242888000854974, 0.4058484585096983, 0.3943859169093345, 0.4182543557018267, 0.4549535749289559, 0.4424288756476189, 0.40584845655984364, 0.3943859139626958, 0.41825435354826324, 0.4549535704164057, 0.4424288717244515, 0.4058484548147153, 0.3943859113992498, 0.41825435163276137, 0.45495356636632617, 0.44242886823587046, 0.40584845327043706, 0.3943859091881176, 0.41825434994585303, 0.45495356276398324, 0.44242886516023694, 0.40584845191531593, 0.39438590729115564, 0.418254348470626, 0.4549535595803468, 0.4424288624648572, 0.40584845073314213, 0.39438590566842285, 0.418254347186375, 0.45495355677850285, 0.40579398166650815, 0.39423872617354644, 0.4181819997004082, 0.4548837027250558, 0.44240550448412075, 0.4058433198772066, 0.39437260543909514, 0.41824783728681536, 0.45494729143042745, 0.4424267652076507, 0.40584798857589055, 0.39438471260386776, 0.41825376341247944, 0.4549529936107426, 0.44242867066520164, 0.40584840756235946, 0.39438579646129074, 0.4182542931250577, 0.4549535016757666, 0.4424288391187181, 0.40584844414920046, 0.3943858922938469, 0.4182543394932251, 0.45495354495788104, 0.4057939777841743, 0.35670329605985845, 0.31727126169397685, 0.26770720376238355, 0.30798347307845453, 0.29339593056053637, 0.4086739055534852, 0.3032340265422136, 0.2677921953774075, 0.30803005775213305, 0.3311690556828318, 0.267128990515755, 0.3076387351154875, 0.29333729875957704, 0.4088531335700031, 0.3324195819790493, 0.26751237900187036, 0.3078733455533827, 0.2933771763256165, 0.44783072530822804, 0.4200158912675483, 0.4565398120071091, 0.5, 0.5, 0.5, 0.5, 0.5, 0.5, 0.5, 0.5, 0.5, 0.5, 0.5, 0.5, 0.5, 0.5, 0.5, 0.5, 0.5, 0.5, 0.5, 0.5, 0.5, 0.5, 0.5, 0.5, 0.5, 0.5, 0.5, 0.5, 0.5, 0.5, 0.5, 0.5, 0.5, 0.5, 0.5, 0.5, 0.5, 0.5, 0.5, 0.5, 0.5, 0.5, 0.5, 0.5, 0.5, 0.5, 0.5, 0.5, 0.5, 0.5, 0.5, 0.5, 0.5, 0.5, 0.5, 0.5, 0.5, 0.5, 0.5, 0.5, 0.5, 0.5, 0.5, 0.5, 0.5, 0.5, 0.5, 0.5, 0.5, 0.5, 0.5, 0.5, 0.5, 0.5, 0.5, 0.5, 0.5, 0.5, 0.5, 0.5, 0.5, 0.5, 0.5, 0.5, 0.5, 0.5, 0.5, 0.5, 0.5, 0.5, 0.5, 0.5, 0.5, 0.5, 0.5, 0.5, 0.5, 0.5, 0.5, 0.5, 0.5, 0.5, 0.5, 0.5, 0.5, 0.5, 0.5, 0.5, 0.5, 0.5, 0.5, 0.5, 0.5, 0.5, 0.5, 0.5, 0.5, 0.5, 0.5, 0.5, 0.5, 0.5, 0.5, 0.5, 0.5, 0.5, 0.5, 0.5, 0.5, 0.5, 0.5, 0.5, 0.5, 0.5, 0.5, 0.5, 0.5, 0.5, 0.5, 0.5, 0.5, 0.5, 0.5, 0.5, 0.5, 0.5, 0.5, 0.5, 0.5, 0.5, 0.5, 0.5, 0.5, 0.5, 0.5, 0.5, 0.5, 0.5, 0.5, 0.5, 0.5, 0.5, 0.5, 0.5, 0.5, 0.5, 0.5, 0.5, 0.5, 0.5, 0.5, 0.5, 0.5, 0.5, 0.5, 0.5, 0.5, 0.5, 0.5, 0.5, 0.5, 0.5, 0.5, 0.5, 0.5, 0.5, 0.5, 0.5, 0.5, 0.5, 0.5, 0.5, 0.5, 0.5, 0.5, 0.5, 0.5, 0.5, 0.5, 0.5, 0.5, 0.5, 0.5, 0.5, 0.5, 0.5, 0.5, 0.5, 0.5, 0.5, 0.5, 0.5, 0.5, 0.5, 0.5, 0.5, 0.5, 0.5, 0.5, 0.5, 0.5, 0.5, 0.5, 0.5, 0.5, 0.5, 0.5, 0.5, 0.5, 0.5, 0.5, 0.5, 0.5, 0.5, 0.5, 0.5, 0.5, 0.5, 0.5, 0.5, 0.5, 0.5, 0.5, 0.5, 0.5, 0.5, 0.5, 0.5, 0.5, 0.5, 0.5, 0.5, 0.5, 0.5, 0.5, 0.5, 0.5, 0.5, 0.5, 0.5, 0.5, 0.5, 0.5, 0.5, 0.5, 0.5, 0.5, 0.5, 0.5, 0.5, 0.5, 0.5, 0.5, 0.5, 0.5, 0.5, 0.5, 0.5, 0.5, 0.5]\n"
     ]
    }
   ],
   "source": [
    "print(loss)"
   ]
  },
  {
   "cell_type": "code",
   "execution_count": null,
   "metadata": {},
   "outputs": [],
   "source": []
  }
 ],
 "metadata": {
  "kernelspec": {
   "display_name": "Python 3",
   "language": "python",
   "name": "python3"
  },
  "language_info": {
   "codemirror_mode": {
    "name": "ipython",
    "version": 3
   },
   "file_extension": ".py",
   "mimetype": "text/x-python",
   "name": "python",
   "nbconvert_exporter": "python",
   "pygments_lexer": "ipython3",
   "version": "3.8.3"
  }
 },
 "nbformat": 4,
 "nbformat_minor": 4
}
