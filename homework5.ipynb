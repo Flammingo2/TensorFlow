{
  "nbformat": 4,
  "nbformat_minor": 0,
  "metadata": {
    "colab": {
      "name": "homework5.ipynb",
      "provenance": [],
      "collapsed_sections": [],
      "authorship_tag": "ABX9TyPwBCEKKHTsTjZhpzciOGDI",
      "include_colab_link": true
    },
    "kernelspec": {
      "name": "python3",
      "display_name": "Python 3"
    }
  },
  "cells": [
    {
      "cell_type": "markdown",
      "metadata": {
        "id": "view-in-github",
        "colab_type": "text"
      },
      "source": [
        "<a href=\"https://colab.research.google.com/github/Flammingo2/TensorFlow/blob/main/homework5.ipynb\" target=\"_parent\"><img src=\"https://colab.research.google.com/assets/colab-badge.svg\" alt=\"Open In Colab\"/></a>"
      ]
    },
    {
      "cell_type": "code",
      "metadata": {
        "id": "ERyUywmoWfdu"
      },
      "source": [
        "import numpy as np\n",
        "%tensorflow_version 2.x\n",
        "import tensorflow as tf\n",
        "import matplotlib.pyplot as plt\n",
        "import tensorflow_datasets as tfds"
      ],
      "execution_count": 49,
      "outputs": []
    },
    {
      "cell_type": "code",
      "metadata": {
        "id": "S8WZ3f8lWj2O"
      },
      "source": [
        "# Load dataset, split into test and training data\n",
        "train_ds, test_ds = tfds.load('cifar10', split= ['train', 'test'], as_supervised=True)"
      ],
      "execution_count": 50,
      "outputs": []
    },
    {
      "cell_type": "code",
      "metadata": {
        "id": "YXhMw-o7XBmr"
      },
      "source": [
        "def overview_data():\n",
        "  train_ds_numpy = tfds.as_numpy(train_ds)\n",
        "  test_ds_numpy = tfds.as_numpy(test_ds)\n",
        "\n",
        "  #Look at shapes images and labels of dataset\n",
        "  print(len(train_ds))\n",
        "  print(len(test_ds))\n",
        "\n",
        "  x = 0\n",
        "  for i in train_ds_numpy:\n",
        "    x += 1\n",
        "    print(format(i[0].shape))\n",
        "    print(np.amax(i[0]))\n",
        "    print(np.amin(i[0]))\n",
        "    print(format(i[1]))\n",
        "    if x== 5:\n",
        "      break\n",
        "\n",
        "  x = 0\n",
        "  for i in test_ds_numpy:\n",
        "    x += 1\n",
        "    print(format(i[0].shape))\n",
        "    print(np.amax(i[0]))\n",
        "    print(np.amin(i[0]))\n",
        "    print(format(i[1]))\n",
        "    if x== 5:\n",
        "      break"
      ],
      "execution_count": 51,
      "outputs": []
    },
    {
      "cell_type": "code",
      "metadata": {
        "id": "TpxyuriCXIiq"
      },
      "source": [
        "def plot_data():\n",
        "  train_ds_numpy = tfds.as_numpy(train_ds)\n",
        "  test_ds_numpy = tfds.as_numpy(test_ds)\n",
        "\n",
        "  # Plot 5 samples with their corresponding label.\n",
        "  fig, ax = plt.subplots(1,5)\n",
        "  x = 0\n",
        "  for j in train_ds_numpy:\n",
        "    \n",
        "    # Readout an image and the corresponding label.\n",
        "    img = j[0]\n",
        "\n",
        "    label = {\n",
        "        0 : 'airplane',\n",
        "        1 : 'automobile',\n",
        "        2 : 'bird',\n",
        "        3 : 'cat',\n",
        "        4 : 'deer',\n",
        "        5 : 'dog',\n",
        "        6 : 'frog',\n",
        "        7 : 'horse',\n",
        "        8 : 'ship',\n",
        "        9 : 'truck'\n",
        "    }\n",
        "    # if label is still just an integer\n",
        "    if isinstance(j[1], np.int64)  :\n",
        "      lbl = label[j[1]]\n",
        "    # if label is already an one-hot vektor\n",
        "    else:\n",
        "      indice = np.where(j[1] == 1)\n",
        "      indice = indice[0]\n",
        "      lbl = label[int(indice)]\n",
        "\n",
        "    ax[x].imshow(img)\n",
        "    ax[x].set_title(lbl)\n",
        "    ax[x].axis(\"off\")\n",
        "\n",
        "    x += 1\n",
        "\n",
        "    if x==5:\n",
        "      break"
      ],
      "execution_count": 52,
      "outputs": []
    },
    {
      "cell_type": "code",
      "metadata": {
        "colab": {
          "base_uri": "https://localhost:8080/",
          "height": 833
        },
        "id": "6_OK5ExMXZKn",
        "outputId": "62e225ba-fc0c-40d4-f32c-9671e39234a5"
      },
      "source": [
        "overview_data()\n",
        "plot_data()"
      ],
      "execution_count": 53,
      "outputs": [
        {
          "output_type": "stream",
          "text": [
            "50000\n",
            "10000\n",
            "(32, 32, 3)\n",
            "249\n",
            "0\n",
            "7\n",
            "(32, 32, 3)\n",
            "249\n",
            "5\n",
            "8\n",
            "(32, 32, 3)\n",
            "172\n",
            "54\n",
            "4\n",
            "(32, 32, 3)\n",
            "247\n",
            "10\n",
            "4\n",
            "(32, 32, 3)\n",
            "209\n",
            "8\n",
            "6\n",
            "(32, 32, 3)\n",
            "255\n",
            "5\n",
            "7\n",
            "(32, 32, 3)\n",
            "255\n",
            "0\n",
            "0\n",
            "(32, 32, 3)\n",
            "225\n",
            "6\n",
            "6\n",
            "(32, 32, 3)\n",
            "255\n",
            "58\n",
            "9\n",
            "(32, 32, 3)\n",
            "246\n",
            "0\n",
            "5\n"
          ],
          "name": "stdout"
        },
        {
          "output_type": "display_data",
          "data": {
            "image/png": "[encoded data removed]",
            "text/plain": [
              "<Figure size 432x288 with 5 Axes>"
            ]
          },
          "metadata": {
            "tags": [],
            "needs_background": "light"
          }
        }
      ]
    },
    {
      "cell_type": "code",
      "metadata": {
        "id": "wWZttKkZXcxi"
      },
      "source": [
        "#Build input pipeline\n",
        "train_ds = train_ds.map(lambda image, label: (tf.image.per_image_standardization(tf.cast(image, tf.float32)), tf.reshape(tf.one_hot(label, 10), (-1,))))\n",
        "test_ds = test_ds.map(lambda image, label: (tf.image.per_image_standardization(tf.cast(image, tf.float32)), tf.reshape(tf.one_hot(label, 10), (-1,))))\n",
        "#(image/255)*2 -1 "
      ],
      "execution_count": 54,
      "outputs": []
    },
    {
      "cell_type": "code",
      "metadata": {
        "colab": {
          "base_uri": "https://localhost:8080/",
          "height": 247
        },
        "id": "o2m50l8aZNz4",
        "outputId": "82652329-2c12-4b15-dff9-19a6fed9fd24"
      },
      "source": [
        "# Plot 5 samples with their corresponding label.\n",
        "fig, ax = plt.subplots(1,5)\n",
        "train_ds_numpy = tfds.as_numpy(train_ds)\n",
        "test_ds_numpy = tfds.as_numpy(test_ds)\n",
        "x = 0\n",
        "for j in train_ds_numpy:\n",
        "  \n",
        "  # Readout an image and the corresponding label.\n",
        "  img = j[0]\n",
        "  lbl = j[1]\n",
        "\n",
        "  ax[x].imshow(img)\n",
        "  ax[x].set_title(lbl)\n",
        "  ax[x].axis(\"off\")\n",
        "\n",
        "  x += 1\n",
        "\n",
        "  if x==5:\n",
        "    break"
      ],
      "execution_count": 55,
      "outputs": [
        {
          "output_type": "stream",
          "text": [
            "WARNING:matplotlib.image:Clipping input data to the valid range for imshow with RGB data ([0..1] for floats or [0..255] for integers).\n",
            "/usr/local/lib/python3.6/dist-packages/matplotlib/text.py:1165: FutureWarning: elementwise comparison failed; returning scalar instead, but in the future will perform elementwise comparison\n",
            "  if s != self._text:\n",
            "WARNING:matplotlib.image:Clipping input data to the valid range for imshow with RGB data ([0..1] for floats or [0..255] for integers).\n",
            "WARNING:matplotlib.image:Clipping input data to the valid range for imshow with RGB data ([0..1] for floats or [0..255] for integers).\n",
            "WARNING:matplotlib.image:Clipping input data to the valid range for imshow with RGB data ([0..1] for floats or [0..255] for integers).\n",
            "WARNING:matplotlib.image:Clipping input data to the valid range for imshow with RGB data ([0..1] for floats or [0..255] for integers).\n"
          ],
          "name": "stderr"
        },
        {
          "output_type": "display_data",
          "data": {
            "image/png": "[encoded data removed]",
            "text/plain": [
              "<Figure size 432x288 with 5 Axes>"
            ]
          },
          "metadata": {
            "tags": [],
            "needs_background": "light"
          }
        }
      ]
    },
    {
      "cell_type": "code",
      "metadata": {
        "colab": {
          "base_uri": "https://localhost:8080/",
          "height": 920
        },
        "id": "BiL74Z1hYqfI",
        "outputId": "04d2df99-91b3-4c05-93a4-82bc18a4d462"
      },
      "source": [
        "overview_data()\n",
        "plot_data()"
      ],
      "execution_count": 56,
      "outputs": [
        {
          "output_type": "stream",
          "text": [
            "50000\n",
            "10000\n",
            "(32, 32, 3)\n",
            "1.6242564\n",
            "-2.2864254\n",
            "[0. 0. 0. 0. 0. 0. 0. 1. 0. 0.]\n",
            "(32, 32, 3)\n",
            "2.317584\n",
            "-1.7136855\n",
            "[0. 0. 0. 0. 0. 0. 0. 0. 1. 0.]\n",
            "(32, 32, 3)\n",
            "3.1003594\n",
            "-3.4322746\n",
            "[0. 0. 0. 0. 1. 0. 0. 0. 0. 0.]\n",
            "(32, 32, 3)\n",
            "1.9314102\n",
            "-1.4442297\n",
            "[0. 0. 0. 0. 1. 0. 0. 0. 0. 0.]\n",
            "(32, 32, 3)\n",
            "3.0144625\n",
            "-1.3146421\n",
            "[0. 0. 0. 0. 0. 0. 1. 0. 0. 0.]\n",
            "(32, 32, 3)\n",
            "1.3148377\n",
            "-1.5812476\n",
            "[0. 0. 0. 0. 0. 0. 0. 1. 0. 0.]\n",
            "(32, 32, 3)\n",
            "3.6264737\n",
            "-1.5439444\n",
            "[1. 0. 0. 0. 0. 0. 0. 0. 0. 0.]\n",
            "(32, 32, 3)\n",
            "2.993287\n",
            "-2.1075056\n",
            "[0. 0. 0. 0. 0. 0. 1. 0. 0. 0.]\n",
            "(32, 32, 3)\n",
            "0.97097623\n",
            "-2.2548826\n",
            "[0. 0. 0. 0. 0. 0. 0. 0. 0. 1.]\n",
            "(32, 32, 3)\n",
            "1.5621185\n",
            "-1.38555\n",
            "[0. 0. 0. 0. 0. 1. 0. 0. 0. 0.]\n"
          ],
          "name": "stdout"
        },
        {
          "output_type": "stream",
          "text": [
            "WARNING:matplotlib.image:Clipping input data to the valid range for imshow with RGB data ([0..1] for floats or [0..255] for integers).\n",
            "WARNING:matplotlib.image:Clipping input data to the valid range for imshow with RGB data ([0..1] for floats or [0..255] for integers).\n",
            "WARNING:matplotlib.image:Clipping input data to the valid range for imshow with RGB data ([0..1] for floats or [0..255] for integers).\n",
            "WARNING:matplotlib.image:Clipping input data to the valid range for imshow with RGB data ([0..1] for floats or [0..255] for integers).\n",
            "WARNING:matplotlib.image:Clipping input data to the valid range for imshow with RGB data ([0..1] for floats or [0..255] for integers).\n"
          ],
          "name": "stderr"
        },
        {
          "output_type": "display_data",
          "data": {
            "image/png": "[encoded data removed]",
            "text/plain": [
              "<Figure size 432x288 with 5 Axes>"
            ]
          },
          "metadata": {
            "tags": [],
            "needs_background": "light"
          }
        }
      ]
    },
    {
      "cell_type": "code",
      "metadata": {
        "id": "_T2xt6vVYtct"
      },
      "source": [
        "# batching, shuffle und prefetching\n",
        "train_ds = train_ds.batch(64).shuffle(buffer_size=64).prefetch(128)\n",
        "test_ds = test_ds.batch(64).shuffle(buffer_size=64).prefetch(128)"
      ],
      "execution_count": 57,
      "outputs": []
    },
    {
      "cell_type": "code",
      "metadata": {
        "id": "InS_EG4gvLrn"
      },
      "source": [
        "from tensorflow.keras import Model\n",
        "from tensorflow.keras.layers import Layer\n",
        "\n",
        "class Model(Model): \n",
        "    \n",
        "    def __init__(self):\n",
        "        super(Model, self).__init__()\n",
        "        # Define the layers.\n",
        "        #Convolutional layers (conv2d (with regularization(L2)) + pooling + dropout)\n",
        "        self.convolution_layer_1 = tf.keras.layers.Conv2D(filters=32,\n",
        "                                                     kernel_size=3,\n",
        "                                                     strides=(1,1),\n",
        "                                                     padding='same',\n",
        "                                                     activation=tf.keras.activations.relu,\n",
        "                                                     input_shape=(64,32,32,3),\n",
        "                                                     kernel_initializer=tf.keras.initializers.RandomNormal(mean=0.0, stddev=1, seed=None),\n",
        "                                                     activity_regularizer=tf.keras.regularizers.L2(0.01)\n",
        "                                               )\n",
        "        self.dropout_layer_1 = tf.keras.layers.Dropout(.5, input_shape=(2,))\n",
        "\n",
        "\n",
        "        self.convolution_layer_2 = tf.keras.layers.Conv2D(filters = 8,\n",
        "                                                   kernel_size=3,\n",
        "                                                   strides=(1,1),\n",
        "                                                   padding= 'same',\n",
        "                                                   activation=tf.keras.activations.relu,\n",
        "                                                   kernel_initializer=tf.keras.initializers.RandomNormal(mean=0.0, stddev=1, seed=None),\n",
        "                                                   activity_regularizer=tf.keras.regularizers.L2(0.01)\n",
        "                                               )\n",
        "        self.dropout_layer_2 = tf.keras.layers.Dropout(.5, input_shape=(2,))\n",
        "\n",
        "\n",
        "        self.convolution_layer_3 = tf.keras.layers.Conv2D(filters = 8,\n",
        "                                                   kernel_size=3,\n",
        "                                                   strides=(1,1),\n",
        "                                                   padding= 'same',\n",
        "                                                   activation=tf.keras.activations.relu,\n",
        "                                                   kernel_initializer=tf.keras.initializers.RandomNormal(mean=0.0, stddev=1, seed=None),\n",
        "                                                   activity_regularizer=tf.keras.regularizers.L2(0.01)\n",
        "                                               )\n",
        "        self.max_pool_layer_1 = tf.keras.layers.MaxPool2D(pool_size=(3,3),\n",
        "                                                        strides=(2,2)                                         \n",
        "                                               )\n",
        "        self.dropout_layer_3 = tf.keras.layers.Dropout(.5, input_shape=(2,))\n",
        "\n",
        "\n",
        "        self.convolution_layer_4 = tf.keras.layers.Conv2D(filters = 8,\n",
        "                                                   kernel_size=3,\n",
        "                                                   strides=(1,1),\n",
        "                                                   padding= 'same',\n",
        "                                                   activation=tf.keras.activations.relu,\n",
        "                                                   kernel_initializer=tf.keras.initializers.RandomNormal(mean=0.0, stddev=1, seed=None),\n",
        "                                                   activity_regularizer=tf.keras.regularizers.L2(0.01)\n",
        "                                               )\n",
        "        self.dropout_layer_4 = tf.keras.layers.Dropout(.5, input_shape=(2,))\n",
        "\n",
        "\n",
        "        self.convolution_layer_5 = tf.keras.layers.Conv2D(filters = 8,\n",
        "                                                   kernel_size=3,\n",
        "                                                   strides=(1,1),\n",
        "                                                   padding= 'same',\n",
        "                                                   activation=tf.keras.activations.relu,\n",
        "                                                   kernel_initializer=tf.keras.initializers.RandomNormal(mean=0.0, stddev=1, seed=None),\n",
        "                                                   activity_regularizer=tf.keras.regularizers.L2(0.01)\n",
        "                                               )\n",
        "        self.max_pool_layer_2 = tf.keras.layers.MaxPool2D(pool_size=(3,3),\n",
        "                                                        strides=(2,2)                                         \n",
        "                                               )\n",
        "        self.dropout_layer_5 = tf.keras.layers.Dropout(.5, input_shape=(2,))\n",
        "\n",
        "\n",
        "        self.convolution_layer_6 = tf.keras.layers.Conv2D(filters = 8,\n",
        "                                                   kernel_size=3,\n",
        "                                                   strides=(1,1),\n",
        "                                                   padding= 'same',\n",
        "                                                   activation=tf.keras.activations.relu,\n",
        "                                                   kernel_initializer=tf.keras.initializers.RandomNormal(mean=0.0, stddev=1, seed=None),\n",
        "                                                   activity_regularizer=tf.keras.regularizers.L2(0.01)\n",
        "                                               )\n",
        "        #Global Average Pooling layer\n",
        "        self.global_pooling_layer = tf.keras.layers.GlobalAveragePooling2D()\n",
        "\n",
        "        # hidden layer + output layer\n",
        "        self.hidden_layer = tf.keras.layers.Dense(units=64,\n",
        "                                                  activation=tf.keras.activations.sigmoid, \n",
        "                                                  kernel_initializer=tf.keras.initializers.RandomNormal(mean=0.0, stddev=1, seed=None),\n",
        "                                                  activity_regularizer=tf.keras.regularizers.L2(0.01)\n",
        "                                                  )\n",
        "        self.dropout_layer_6 = tf.keras.layers.Dropout(.5, input_shape=(2,))\n",
        "\n",
        "\n",
        "        self.output_layer = tf.keras.layers.Dense(units=10, \n",
        "                                                  activation=tf.keras.activations.softmax,\n",
        "                                                  kernel_initializer=tf.keras.initializers.RandomNormal(mean=0.0, stddev=1, seed=None),\n",
        "                                                  activity_regularizer=tf.keras.regularizers.L2(0.01)\n",
        "                                                  )\n",
        "\n",
        "    def call(self, x, training=True):\n",
        "        # Define the forward step.\n",
        "        x = self.convolution_layer_1(x)\n",
        "        x = self.dropout_layer_1(x)\n",
        "\n",
        "        x = self.convolution_layer_2(x)\n",
        "        x = self.dropout_layer_2(x)\n",
        "\n",
        "        x = self.convolution_layer_3(x)\n",
        "        x = self.max_pool_layer_1(x)\n",
        "        x = self.dropout_layer_3(x)\n",
        "\n",
        "        x = self.convolution_layer_4(x)\n",
        "        x = self.dropout_layer_4(x)\n",
        "\n",
        "        x = self.convolution_layer_5(x)\n",
        "        x = self.max_pool_layer_2(x)\n",
        "        x = self.dropout_layer_5(x)\n",
        "\n",
        "        x = self.convolution_layer_6(x)\n",
        "\n",
        "        x = self.global_pooling_layer(x)\n",
        "        x = self.hidden_layer(x)\n",
        "        x = self.dropout_layer_6(x)\n",
        "        x = self.output_layer(x)\n",
        "        \n",
        "        return x"
      ],
      "execution_count": 58,
      "outputs": []
    },
    {
      "cell_type": "code",
      "metadata": {
        "id": "T-QJFbIeb7wQ"
      },
      "source": [
        "def train_step(model, input, target, loss_function, optimizer):\n",
        "  # loss_object and optimizer_object are instances of respective tensorflow classes\n",
        "  with tf.GradientTape() as tape:\n",
        "    prediction = model(input, training=True)\n",
        "    # Introduce Regularization\n",
        "    loss = loss_function(target, prediction) + tf.reduce_sum(model.losses)\n",
        "    gradients = tape.gradient(loss, model.trainable_variables)\n",
        "  optimizer.apply_gradients(zip(gradients, model.trainable_variables))\n",
        "  return loss \n",
        "\n",
        "def test(model, test_data, loss_function, training=False):\n",
        "  # test over complete test data\n",
        "  test_accuracy_aggregator = []\n",
        "  test_loss_aggregator = []\n",
        "\n",
        "  for (input, target) in test_data:\n",
        "    prediction = model(input)\n",
        "    sample_test_loss = loss_function(target, prediction)\n",
        "    sample_test_accuracy =  np.argmax(target, axis=1) == np.argmax(prediction, axis=1)\n",
        "    sample_test_accuracy = np.mean(sample_test_accuracy)\n",
        "    test_loss_aggregator.append(sample_test_loss.numpy())\n",
        "    test_accuracy_aggregator.append(np.mean(sample_test_accuracy))\n",
        "\n",
        "  test_loss = np.mean(test_loss_aggregator)\n",
        "  test_accuracy = np.mean(test_accuracy_aggregator)\n",
        "\n",
        "  return test_loss, test_accuracy"
      ],
      "execution_count": 59,
      "outputs": []
    },
    {
      "cell_type": "code",
      "metadata": {
        "colab": {
          "base_uri": "https://localhost:8080/"
        },
        "id": "G8AqJfpvb_Q7",
        "outputId": "e6df790c-2837-4b77-c396-23256e272e4c"
      },
      "source": [
        "tf.keras.backend.clear_session()\n",
        "\n",
        "### Hyperparameters\n",
        "num_epochs = 10\n",
        "learning_rate = 0.0001\n",
        "running_average_factor = 0.95\n",
        "\n",
        "# Initialize the model.\n",
        "model = Model()\n",
        "# Initialize the loss: categorical cross entropy. Check out 'tf.keras.losses'.\n",
        "cross_entropy_loss = tf.keras.losses.CategoricalCrossentropy()\n",
        "# Initialize the optimizer: Adam with default parameters. Check out 'tf.keras.optimizers'\n",
        "optimizer = tf.keras.optimizers.Adam(learning_rate)\n",
        "\n",
        "# Initialize lists for later visualization.\n",
        "train_losses = []\n",
        "\n",
        "test_losses = []\n",
        "test_accuracies = []\n",
        "\n",
        "#testing once before we begin\n",
        "test_loss, test_accuracy = test(model, test_ds, cross_entropy_loss)\n",
        "test_losses.append(test_loss)\n",
        "test_accuracies.append(test_accuracy)\n",
        "\n",
        "#check how model performs on train data once before we begin\n",
        "train_loss, _ = test(model, train_ds, cross_entropy_loss)\n",
        "train_losses.append(train_loss)\n",
        "\n",
        "# We train for num_epochs epochs.\n",
        "for epoch in range(num_epochs):\n",
        "    print('Epoch: __ ' + str(epoch))\n",
        "\n",
        "    train_ds = train_ds.shuffle(buffer_size=128)\n",
        "    test_ds = test_ds.shuffle(buffer_size=128)\n",
        "\n",
        "    #training (and checking in with training)\n",
        "    running_average = 0\n",
        "    for (input,target) in train_ds:\n",
        "        train_loss = train_step(model, input, target, cross_entropy_loss, optimizer)\n",
        "        running_average = running_average_factor * running_average  + (1 - running_average_factor) * train_loss\n",
        "    train_losses.append(running_average)\n",
        "\n",
        "    #testing\n",
        "    test_loss, test_accuracy = test(model, test_ds, cross_entropy_loss)\n",
        "    test_losses.append(test_loss)\n",
        "    test_accuracies.append(test_accuracy)\n",
        "\n",
        "    # Visualize accuracy and loss for training and test data. \n",
        "    # One plot training and test loss.\n",
        "    # One plot training and test accuracy.\n",
        "    plt.figure()\n",
        "    line1, = plt.plot(train_losses)\n",
        "    line2, = plt.plot(test_losses)\n",
        "    plt.xlabel(\"Training steps\")\n",
        "    plt.ylabel(\"Loss\")\n",
        "    plt.legend((line1,line2),(\"training\",\"test\"))\n",
        "    plt.show()\n",
        "\n",
        "    plt.figure()\n",
        "    line1, = plt.plot(test_accuracies)\n",
        "    plt.xlabel(\"Training steps\")\n",
        "    plt.ylabel(\"Accuracy\")\n",
        "    plt.show()"
      ],
      "execution_count": null,
      "outputs": [
        {
          "output_type": "stream",
          "text": [
            "Epoch: __ 0\n"
          ],
          "name": "stdout"
        }
      ]
    },
    {
      "cell_type": "code",
      "metadata": {
        "id": "vHaGNRDOcCiW"
      },
      "source": [
        "# Visualize accuracy and loss for training and test data. \n",
        "# One plot training and test loss.\n",
        "# One plot training and test accuracy.\n",
        "plt.figure()\n",
        "line1, = plt.plot(train_losses)\n",
        "line2, = plt.plot(test_losses)\n",
        "plt.xlabel(\"Training steps\")\n",
        "plt.ylabel(\"Loss\")\n",
        "plt.legend((line1,line2),(\"training\",\"test\"))\n",
        "plt.show()\n",
        "\n",
        "plt.figure()\n",
        "line1, = plt.plot(test_accuracies)\n",
        "plt.xlabel(\"Training steps\")\n",
        "plt.ylabel(\"Accuracy\")\n",
        "plt.show()"
      ],
      "execution_count": null,
      "outputs": []
    },
    {
      "cell_type": "code",
      "metadata": {
        "colab": {
          "base_uri": "https://localhost:8080/",
          "height": 183
        },
        "id": "CxWlCS_KcGNf",
        "outputId": "b02d947a-b8f1-47b9-df06-2a6ecc9b32d3"
      },
      "source": [
        "#Save model\n",
        "model.save_weights('Malaria.h5')"
      ],
      "execution_count": null,
      "outputs": [
        {
          "output_type": "error",
          "ename": "NameError",
          "evalue": "ignored",
          "traceback": [
            "\u001b[0;31m---------------------------------------------------------------------------\u001b[0m",
            "\u001b[0;31mNameError\u001b[0m                                 Traceback (most recent call last)",
            "\u001b[0;32m<ipython-input-1-1ecc54aae9e4>\u001b[0m in \u001b[0;36m<module>\u001b[0;34m()\u001b[0m\n\u001b[1;32m      1\u001b[0m \u001b[0;31m#Save model\u001b[0m\u001b[0;34m\u001b[0m\u001b[0;34m\u001b[0m\u001b[0;34m\u001b[0m\u001b[0m\n\u001b[0;32m----> 2\u001b[0;31m \u001b[0mmodel\u001b[0m\u001b[0;34m.\u001b[0m\u001b[0msave_weights\u001b[0m\u001b[0;34m(\u001b[0m\u001b[0;34m'Malaria.h5'\u001b[0m\u001b[0;34m)\u001b[0m\u001b[0;34m\u001b[0m\u001b[0;34m\u001b[0m\u001b[0m\n\u001b[0m",
            "\u001b[0;31mNameError\u001b[0m: name 'model' is not defined"
          ]
        }
      ]
    },
    {
      "cell_type": "code",
      "metadata": {
        "id": "ZCsodpayzLt_"
      },
      "source": [
        ""
      ],
      "execution_count": null,
      "outputs": []
    }
  ]
}